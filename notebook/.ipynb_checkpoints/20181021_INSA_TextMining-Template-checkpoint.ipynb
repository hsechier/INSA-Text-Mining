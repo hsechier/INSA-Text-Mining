{
 "cells": [
  {
   "cell_type": "markdown",
   "metadata": {},
   "source": [
    "\n",
    "<html>\n",
    "\n",
    "   <head>\n",
    "      <title>Font Face</title>\n",
    "   </head>\n",
    "\n",
    "   <body>\n",
    "      <font face = \"Calibri Light\" size =\" 9\">Text Mining Sand Box</font><br />\n",
    "   </body>\n",
    "\n",
    "</html>\n",
    "<img src=\"../www/logo_insa.png\" width=\"500\">\n",
    "First of all, create a folder on your computer following this structure : \n",
    "\n",
    "```\n",
    "project\n",
    "│   README.md   \n",
    "│\n",
    "└───notebook\n",
    "│   │   INSA from scratch.ipynb\n",
    "│   \n",
    "└───data\n",
    "│   │   reviews_airlines.csv\n",
    "│   \n",
    "└───output\n",
    "│   │   Myfiles.pckle\n",
    "│   \n",
    "└───wwww\n",
    "    │   logo_insa.png\n",
    "    \n",
    "```\n"
   ]
  },
  {
   "cell_type": "markdown",
   "metadata": {},
   "source": [
    "## TOC:\n",
    "* [Import data, cleaning and visualizing](#first-bullet)  \n",
    "    - [Visualizing](#visual)\n",
    "* [Preprocessing](#preprocessing)\n",
    "* [Topic Modeling](#topic-modeling)\n",
    "    - [Dimension reduction with NMF algorithm](#nmf)\n",
    "    - [LDA](#lda)\n",
    "* [Predict my rate !](#predict-rate)\n",
    "    - [Regression](#regression)\n",
    "    - [Classification](#classification)\n",
    "* [Source](#source)"
   ]
  },
  {
   "cell_type": "code",
   "execution_count": 2,
   "metadata": {},
   "outputs": [
    {
     "name": "stderr",
     "output_type": "stream",
     "text": [
      "C:\\Users\\mariom\\AppData\\Local\\Continuum\\Anaconda3\\envs\\text_mining\\lib\\site-packages\\gensim\\utils.py:1212: UserWarning: detected Windows; aliasing chunkize to chunkize_serial\n",
      "  warnings.warn(\"detected Windows; aliasing chunkize to chunkize_serial\")\n"
     ]
    },
    {
     "data": {
      "application/vnd.jupyter.widget-view+json": {
       "model_id": "06b5d728612142f8b26708ed511bb977",
       "version_major": 2,
       "version_minor": 0
      },
      "text/plain": [
       "HBox(children=(IntProgress(value=1, bar_style='info', max=1), HTML(value='')))"
      ]
     },
     "metadata": {},
     "output_type": "display_data"
    },
    {
     "name": "stdout",
     "output_type": "stream",
     "text": [
      "\n"
     ]
    }
   ],
   "source": [
    "import pandas as pd\n",
    "import numpy as np\n",
    "import datetime\n",
    "import os\n",
    "import math\n",
    "\n",
    "import nltk\n",
    "from nltk.corpus import stopwords\n",
    "from nltk.stem.wordnet import WordNetLemmatizer\n",
    "from nltk.stem import PorterStemmer\n",
    "from sklearn import preprocessing\n",
    "import string\n",
    "import gensim\n",
    "from gensim import corpora\n",
    "from gensim.models import phrases, Phrases, coherencemodel\n",
    "from nltk import word_tokenize\n",
    "from tqdm import tqdm # for progress bar\n",
    "from tqdm import tqdm_notebook\n",
    "tqdm.pandas(desc='progress-bar')\n",
    "tqdm_notebook().pandas()\n",
    "import langdetect # to detect language,\n",
    "from sklearn.feature_extraction.text import CountVectorizer\n",
    "from sklearn.feature_extraction.text import TfidfVectorizer\n",
    "from sklearn.feature_extraction.text import TfidfTransformer\n",
    "from sklearn.decomposition import NMF\n",
    "from sklearn.model_selection import train_test_split\n",
    "from sklearn.linear_model import LinearRegression\n",
    "from sklearn.metrics import confusion_matrix,f1_score,mean_squared_error,r2_score\n",
    "from sklearn.pipeline import Pipeline\n",
    "import pyLDAvis.gensim"
   ]
  },
  {
   "cell_type": "code",
   "execution_count": 3,
   "metadata": {},
   "outputs": [
    {
     "name": "stderr",
     "output_type": "stream",
     "text": [
      "C:\\Users\\mariom\\AppData\\Local\\Continuum\\Anaconda3\\envs\\text_mining\\lib\\site-packages\\ipywidgets\\widgets\\widget.py:281: DeprecationWarning:\n",
      "\n",
      "Widget registration using a string name has been deprecated. Widget registration now uses a plain `@register` decorator.\n",
      "\n"
     ]
    },
    {
     "data": {
      "text/html": [
       "<script>requirejs.config({paths: { 'plotly': ['https://cdn.plot.ly/plotly-latest.min']},});if(!window.Plotly) {{require(['plotly'],function(plotly) {window.Plotly=plotly;});}}</script>"
      ],
      "text/vnd.plotly.v1+html": [
       "<script>requirejs.config({paths: { 'plotly': ['https://cdn.plot.ly/plotly-latest.min']},});if(!window.Plotly) {{require(['plotly'],function(plotly) {window.Plotly=plotly;});}}</script>"
      ]
     },
     "metadata": {},
     "output_type": "display_data"
    }
   ],
   "source": [
    "from matplotlib import pyplot as plt\n",
    "%matplotlib inline\n",
    "import seaborn as sns\n",
    "sns.set(rc={'figure.figsize':(10,6)})\n",
    "import plotly\n",
    "from plotly.offline import download_plotlyjs, init_notebook_mode, plot, iplot\n",
    "import plotly.plotly as py\n",
    "import plotly.graph_objs as go\n",
    "init_notebook_mode(connected=True)\n",
    "import pickle\n",
    "import itertools"
   ]
  },
  {
   "cell_type": "code",
   "execution_count": 4,
   "metadata": {},
   "outputs": [],
   "source": [
    "# nltk.download('punkt')\n",
    "# nltk.download('wordnet')"
   ]
  },
  {
   "cell_type": "markdown",
   "metadata": {},
   "source": [
    "## Import data, cleaning and visualizing <a class=\"anchor\" id=\"first-bullet\"></a>"
   ]
  },
  {
   "cell_type": "code",
   "execution_count": 5,
   "metadata": {
    "collapsed": true
   },
   "outputs": [
    {
     "ename": "SyntaxError",
     "evalue": "invalid syntax (<ipython-input-5-5b4369463c8a>, line 1)",
     "output_type": "error",
     "traceback": [
      "\u001b[1;36m  File \u001b[1;32m\"<ipython-input-5-5b4369463c8a>\"\u001b[1;36m, line \u001b[1;32m1\u001b[0m\n\u001b[1;33m    airlines = #< Reading data>\u001b[0m\n\u001b[1;37m                               ^\u001b[0m\n\u001b[1;31mSyntaxError\u001b[0m\u001b[1;31m:\u001b[0m invalid syntax\n"
     ]
    }
   ],
   "source": [
    "airlines = #< Reading data>"
   ]
  },
  {
   "cell_type": "code",
   "execution_count": null,
   "metadata": {},
   "outputs": [],
   "source": [
    "#<Print the first lines>"
   ]
  },
  {
   "cell_type": "code",
   "execution_count": null,
   "metadata": {},
   "outputs": [],
   "source": [
    "print('Number of reviews: ', #<Print the shape> \n",
    "     )"
   ]
  },
  {
   "cell_type": "markdown",
   "metadata": {},
   "source": [
    "Now, let's only keep the stars, text and number of the review to work on.\n",
    "We add the number column in case we change the index later"
   ]
  },
  {
   "cell_type": "code",
   "execution_count": 7,
   "metadata": {},
   "outputs": [],
   "source": [
    "airlines['number'] = airlines.index\n",
    "airlines['date'] = #<Transform date into datetime>\n",
    "airlines['month'] = #<Access to the month>\n",
    "airlines['year'] = #<Access to the year>\n",
    "df = airlines[['number','content','rating','date']].copy()\n",
    "df = df.dropna()"
   ]
  },
  {
   "cell_type": "markdown",
   "metadata": {},
   "source": [
    "### Visualizing<a class=\"anchor\" id=\"visual\"></a>"
   ]
  },
  {
   "cell_type": "code",
   "execution_count": 8,
   "metadata": {},
   "outputs": [
    {
     "data": {
      "image/png": "[encoded data removed]",
      "text/plain": [
       "<Figure size 432x288 with 1 Axes>"
      ]
     },
     "metadata": {
      "needs_background": "light"
     },
     "output_type": "display_data"
    }
   ],
   "source": [
    "X_ratings = #<Count the frequency of Rating>\n",
    "ax = #<Print the histogram using sns.barplot>\n",
    "ax.set(xlabel='Ratings',ylabel='Frequencies',title='Frequencies of ratings over the {} reviews'.format(df.shape[0]))\n",
    "plt.show()"
   ]
  },
  {
   "cell_type": "code",
   "execution_count": 9,
   "metadata": {},
   "outputs": [
    {
     "name": "stderr",
     "output_type": "stream",
     "text": [
      "C:\\Users\\mariom\\AppData\\Local\\Continuum\\Anaconda3\\envs\\text_mining\\lib\\site-packages\\scipy\\stats\\stats.py:1713: FutureWarning:\n",
      "\n",
      "Using a non-tuple sequence for multidimensional indexing is deprecated; use `arr[tuple(seq)]` instead of `arr[seq]`. In the future this will be interpreted as an array index, `arr[np.array(seq)]`, which will result either in an error or a different result.\n",
      "\n"
     ]
    },
    {
     "data": {
      "image/png": "[encoded data removed]",
      "text/plain": [
       "<Figure size 864x360 with 1 Axes>"
      ]
     },
     "metadata": {
      "needs_background": "light"
     },
     "output_type": "display_data"
    }
   ],
   "source": [
    "len_content = #<Compute the len of each content>\n",
    "ax = plt.figure(figsize=(12,5))\n",
    "sns.distplot(len_content)\n",
    "plt.title('Characters distributions')\n",
    "plt.xticks(range(0,1500,500))\n",
    "plt.show()"
   ]
  },
  {
   "cell_type": "markdown",
   "metadata": {},
   "source": [
    "Let's checking the rating evolution by source with a heatmap ! "
   ]
  },
  {
   "cell_type": "code",
   "execution_count": null,
   "metadata": {},
   "outputs": [],
   "source": [
    "df_heatmap = airlines[['source','month','rating']].copy()\n",
    "df_heatmap = #<Access to the mean rating by source and by month\n",
    "df_heatmap"
   ]
  },
  {
   "cell_type": "code",
   "execution_count": 13,
   "metadata": {},
   "outputs": [
    {
     "data": {
      "text/html": [
       "<div>\n",
       "<style scoped>\n",
       "    .dataframe tbody tr th:only-of-type {\n",
       "        vertical-align: middle;\n",
       "    }\n",
       "\n",
       "    .dataframe tbody tr th {\n",
       "        vertical-align: top;\n",
       "    }\n",
       "\n",
       "    .dataframe thead th {\n",
       "        text-align: right;\n",
       "    }\n",
       "</style>\n",
       "<table border=\"1\" class=\"dataframe\">\n",
       "  <thead>\n",
       "    <tr style=\"text-align: right;\">\n",
       "      <th>month</th>\n",
       "      <th>1.0</th>\n",
       "      <th>2.0</th>\n",
       "      <th>3.0</th>\n",
       "      <th>4.0</th>\n",
       "      <th>5.0</th>\n",
       "      <th>6.0</th>\n",
       "      <th>7.0</th>\n",
       "      <th>8.0</th>\n",
       "      <th>9.0</th>\n",
       "      <th>10.0</th>\n",
       "      <th>11.0</th>\n",
       "      <th>12.0</th>\n",
       "    </tr>\n",
       "    <tr>\n",
       "      <th>source</th>\n",
       "      <th></th>\n",
       "      <th></th>\n",
       "      <th></th>\n",
       "      <th></th>\n",
       "      <th></th>\n",
       "      <th></th>\n",
       "      <th></th>\n",
       "      <th></th>\n",
       "      <th></th>\n",
       "      <th></th>\n",
       "      <th></th>\n",
       "      <th></th>\n",
       "    </tr>\n",
       "  </thead>\n",
       "  <tbody>\n",
       "    <tr>\n",
       "      <th>easyjet</th>\n",
       "      <td>3.829949</td>\n",
       "      <td>3.866894</td>\n",
       "      <td>3.732381</td>\n",
       "      <td>3.562963</td>\n",
       "      <td>3.769466</td>\n",
       "      <td>3.562100</td>\n",
       "      <td>3.258045</td>\n",
       "      <td>3.615429</td>\n",
       "      <td>3.670475</td>\n",
       "      <td>3.471535</td>\n",
       "      <td>3.463542</td>\n",
       "      <td>3.869271</td>\n",
       "    </tr>\n",
       "    <tr>\n",
       "      <th>ryanair</th>\n",
       "      <td>3.123369</td>\n",
       "      <td>3.359918</td>\n",
       "      <td>3.286080</td>\n",
       "      <td>3.188650</td>\n",
       "      <td>3.160332</td>\n",
       "      <td>2.993210</td>\n",
       "      <td>2.686223</td>\n",
       "      <td>3.277718</td>\n",
       "      <td>3.070392</td>\n",
       "      <td>3.254464</td>\n",
       "      <td>2.941545</td>\n",
       "      <td>3.383543</td>\n",
       "    </tr>\n",
       "    <tr>\n",
       "      <th>transavia</th>\n",
       "      <td>3.515909</td>\n",
       "      <td>3.622024</td>\n",
       "      <td>3.623077</td>\n",
       "      <td>3.597107</td>\n",
       "      <td>3.462428</td>\n",
       "      <td>3.591216</td>\n",
       "      <td>3.494071</td>\n",
       "      <td>3.562005</td>\n",
       "      <td>3.549451</td>\n",
       "      <td>3.622449</td>\n",
       "      <td>3.754569</td>\n",
       "      <td>3.748276</td>\n",
       "    </tr>\n",
       "  </tbody>\n",
       "</table>\n",
       "</div>"
      ],
      "text/plain": [
       "month          1.0       2.0       3.0       4.0       5.0       6.0   \\\n",
       "source                                                                  \n",
       "easyjet    3.829949  3.866894  3.732381  3.562963  3.769466  3.562100   \n",
       "ryanair    3.123369  3.359918  3.286080  3.188650  3.160332  2.993210   \n",
       "transavia  3.515909  3.622024  3.623077  3.597107  3.462428  3.591216   \n",
       "\n",
       "month          7.0       8.0       9.0       10.0      11.0      12.0  \n",
       "source                                                                 \n",
       "easyjet    3.258045  3.615429  3.670475  3.471535  3.463542  3.869271  \n",
       "ryanair    2.686223  3.277718  3.070392  3.254464  2.941545  3.383543  \n",
       "transavia  3.494071  3.562005  3.549451  3.622449  3.754569  3.748276  "
      ]
     },
     "execution_count": 13,
     "metadata": {},
     "output_type": "execute_result"
    }
   ],
   "source": [
    "heatmap_matrix = df_heatmap.pivot(\"source\", \"month\", \"rating\")\n",
    "heatmap_matrix"
   ]
  },
  {
   "cell_type": "code",
   "execution_count": null,
   "metadata": {},
   "outputs": [],
   "source": [
    "sns.heatmap(heatmap_matrix,cmap=\"RdYlGn\")"
   ]
  },
  {
   "cell_type": "markdown",
   "metadata": {},
   "source": [
    "Checking the most frequent words in the corpus"
   ]
  },
  {
   "cell_type": "code",
   "execution_count": null,
   "metadata": {},
   "outputs": [],
   "source": [
    "all_words = # <Creation of an array of all word in all content columns\n",
    "dist = nltk.FreqDist(allWords) # Get the frequency of words\n",
    "\n",
    "y, X = [nb[0] for nb in dist.most_common(20)] ,[nb[1] for nb in dist.most_common(20)]\n",
    "ax = sns.barplot(X,y)\n",
    "ax.set(xlabel='Word frequencies',ylabel='Words',title='Most common words in the corpus')\n",
    "plt.show()"
   ]
  },
  {
   "cell_type": "markdown",
   "metadata": {},
   "source": [
    "## Preprocessing<a class=\"anchor\" id=\"preprocessing\"></a>\n",
    "First, we lower the text.\n",
    "Then, we remove:\n",
    "- Stop Words\n",
    "- words with a length less than 2 characters\n",
    "- punctuation \n",
    "- more stopwords based on more frequent words we saw previously and that will not help us for topic extraction\n",
    "\n",
    "We also use lemmatization on nouns, verbs and adjectives to get more consistent features and reduce the dimensionality of the future matrices"
   ]
  },
  {
   "cell_type": "markdown",
   "metadata": {},
   "source": [
    "Checking the most frequent words in the corpus (except stop words)"
   ]
  },
  {
   "cell_type": "code",
   "execution_count": null,
   "metadata": {},
   "outputs": [],
   "source": [
    "stopW = #<list of stop words in english>\n",
    "allWords2 = #<Remove stop words of the all list>\n",
    "dist = nltk.FreqDist(allWords2)\n",
    "y, X = [nb[0] for nb in dist.most_common(20)] ,[nb[1] for nb in dist.most_common(20)]\n",
    "ax = sns.barplot(X,y)\n",
    "ax.set(xlabel='Word frequencies',ylabel='Words',title='Most common words in the corpus')\n",
    "plt.show()"
   ]
  },
  {
   "cell_type": "code",
   "execution_count": 6,
   "metadata": {},
   "outputs": [],
   "source": [
    "# Remove stopwords, punctuation, stemming or lemmatization\n",
    "\n",
    "def preprocessing(sent,**args): # function to apply in a row\n",
    "    #tokens = tranfo(sent)\n",
    "    #tokens = tranfo(tokens) \n",
    "    #tokens = ...\n",
    "    return tokens"
   ]
  },
  {
   "cell_type": "code",
   "execution_count": 16,
   "metadata": {},
   "outputs": [
    {
     "data": {
      "application/vnd.jupyter.widget-view+json": {
       "model_id": "a226d2ef43e44a178eee881b61a4574c",
       "version_major": 2,
       "version_minor": 0
      },
      "text/plain": [
       "HBox(children=(IntProgress(value=0, max=50102), HTML(value='')))"
      ]
     },
     "metadata": {},
     "output_type": "display_data"
    },
    {
     "name": "stdout",
     "output_type": "stream",
     "text": [
      "\n"
     ]
    }
   ],
   "source": [
    "df['tokens'] = df['content'].progress_apply(preprocessing)"
   ]
  },
  {
   "cell_type": "markdown",
   "metadata": {},
   "source": [
    "Let's save the DataFrame using pickle"
   ]
  },
  {
   "cell_type": "code",
   "execution_count": 17,
   "metadata": {},
   "outputs": [],
   "source": [
    "with open('../output/content_preprocessed.pickle', 'wb') as output:\n",
    "    pickle.dump(df, output)"
   ]
  },
  {
   "cell_type": "markdown",
   "metadata": {},
   "source": [
    "If you want to load the pickle file : "
   ]
  },
  {
   "cell_type": "code",
   "execution_count": 18,
   "metadata": {},
   "outputs": [],
   "source": [
    "#with open('../output/content_preprocessed.pickle', 'rb') as input:\n",
    "#    df = pickle.load(input)"
   ]
  },
  {
   "cell_type": "markdown",
   "metadata": {},
   "source": [
    "Let's add the bigrams too"
   ]
  },
  {
   "cell_type": "code",
   "execution_count": 19,
   "metadata": {},
   "outputs": [],
   "source": [
    "#<add bigram to the list token>"
   ]
  },
  {
   "cell_type": "markdown",
   "metadata": {},
   "source": [
    "Let's save the tokens and check the first few tokens"
   ]
  },
  {
   "cell_type": "code",
   "execution_count": 20,
   "metadata": {
    "scrolled": true
   },
   "outputs": [],
   "source": [
    "with open('../output/allTokens.pickle', 'wb') as output:\n",
    "    pickle.dump(allTokens, output)"
   ]
  },
  {
   "cell_type": "markdown",
   "metadata": {},
   "source": [
    "If you want to load the pickle file : "
   ]
  },
  {
   "cell_type": "code",
   "execution_count": 21,
   "metadata": {},
   "outputs": [],
   "source": [
    "#with open('../output/allTokens.pickle', 'rb') as input:\n",
    "#    allTokens = pickle.load(input)"
   ]
  },
  {
   "cell_type": "markdown",
   "metadata": {},
   "source": [
    "## Topic Modeling<a class=\"anchor\" id=\"topic-modeling\"></a>"
   ]
  },
  {
   "cell_type": "markdown",
   "metadata": {},
   "source": [
    "### Dimension reduction with NMF algorithm<a class=\"anchor\" id=\"nmf\"></a>\n",
    "\n",
    "Less powerful than LDA, NMF gives us a quick way to visualize topics"
   ]
  },
  {
   "cell_type": "code",
   "execution_count": 23,
   "metadata": {},
   "outputs": [],
   "source": [
    "tfidf_vectorizer = #<Tfidf Constructor> # set the parameters for automatic selection of words"
   ]
  },
  {
   "cell_type": "code",
   "execution_count": 24,
   "metadata": {},
   "outputs": [],
   "source": [
    "TermDocument = #<Fit Tfidf on your content"
   ]
  },
  {
   "cell_type": "code",
   "execution_count": 25,
   "metadata": {},
   "outputs": [],
   "source": [
    "n_dimensions = 6 # This can also be interpreted as topics in this case. This is the \"beauty\" of NMF. 6 is arbitrary\n",
    "nmf = #<NMF constructor for Reduction of dimension>"
   ]
  },
  {
   "cell_type": "code",
   "execution_count": 26,
   "metadata": {},
   "outputs": [],
   "source": [
    "W = nmf.#<fit to our content>\n",
    "H = nmf.#<get componnent"
   ]
  },
  {
   "cell_type": "code",
   "execution_count": 27,
   "metadata": {},
   "outputs": [
    {
     "name": "stdout",
     "output_type": "stream",
     "text": [
      "Topic #0:\n",
      "ryanair airline flights fly cheap low times cost easyjet budget\n",
      "Topic #1:\n",
      "luggage extra boarding seats hand priority pay seat bag paid\n",
      "Topic #2:\n",
      "flight delayed time hour late airport hours minutes plane delay\n",
      "Topic #3:\n",
      "staff friendly helpful crew time cabin flight great clean pleasant\n",
      "Topic #4:\n",
      "easy jet check online booking quick boarding airport use drop\n",
      "Topic #5:\n",
      "good service value flight price money food time board overall\n",
      "\n"
     ]
    }
   ],
   "source": [
    "words = tfidf_vectorizer.get_feature_names()\n",
    "n_top_words = 10 # print 10 words by dimension. You can change this number\n",
    "\n",
    "# Loop for each dimension: what words are the most dominant in each dimension\n",
    "for i_dimension, dimension in enumerate(nmf.components_):\n",
    "    print(\"Topic #%d:\" % i_dimension)\n",
    "    print(\" \".join([words[i] for i in dimension.argsort()[:-n_top_words - 1:-1]]))\n",
    "print()"
   ]
  },
  {
   "cell_type": "markdown",
   "metadata": {},
   "source": [
    "### Latent Dirichlet Allocation (LDA) <a class=\"anchor\" id=\"lda\"></a>\n",
    "*Tips* : conda install -c conda-forge pyldavis"
   ]
  },
  {
   "cell_type": "markdown",
   "metadata": {},
   "source": [
    "select_corpus() is a function to return all words in a single List, that we will use for LDA"
   ]
  },
  {
   "cell_type": "code",
   "execution_count": null,
   "metadata": {},
   "outputs": [],
   "source": [
    "number_of_topics = 6\n",
    "Lda = gensim.models.ldamodel.LdaModel\n",
    "ldamodel = #<Build LDA model>"
   ]
  },
  {
   "cell_type": "code",
   "execution_count": 31,
   "metadata": {},
   "outputs": [],
   "source": [
    "ldamodel.save('../output/lda6.model')\n",
    "#ldamodel = gensim.models.ldamodel.LdaModel.load('../output/lda6.model')"
   ]
  },
  {
   "cell_type": "code",
   "execution_count": null,
   "metadata": {},
   "outputs": [],
   "source": [
    "### set lambda to 0.6\n",
    "pyLDAvis.enable_notebook()\n",
    "reviews_vis = pyLDAvis.gensim.prepare(ldamodel, doc_term_matrix, dictionary)\n",
    "pyLDAvis.display(reviews_vis)"
   ]
  },
  {
   "cell_type": "markdown",
   "metadata": {},
   "source": [
    "Avec un Lambda = 0.17\n",
    "Try to understand groups : \n",
    "- Topic 1 : Ce topic représente tout ce qui touche autour de l'avion => Aeroport \n",
    "- Topic 4 : Ce topic représente tous les mots qui touche aux plaintes. \n",
    "- Topic 3 : Ce topic représente la cause des plaintes \n",
    "- Topic 2 et 5 : Tout ce qui est liée aux choses positive  \n",
    "Donc sur la PC1, nous avons l'avis des personnes. A gauche, nous avons les sentiments +, et à droite, les sentiments -\n"
   ]
  },
  {
   "cell_type": "code",
   "execution_count": 33,
   "metadata": {},
   "outputs": [
    {
     "name": "stdout",
     "output_type": "stream",
     "text": [
      "0 : \n",
      "0.040*\"hour\" + 0.040*\"delay\" + 0.020*\"airport\" + 0.020*\"late\" + 0.017*\"get\" + 0.013*\"wait\" + 0.012*\"time\" + 0.011*\"arrive\" + 0.011*\"plane\" + 0.010*\"one\"\n",
      "\n",
      "1 : \n",
      "0.021*\"check\" + 0.020*\"luggage\" + 0.017*\"board\" + 0.016*\"bag\" + 0.014*\"seat\" + 0.014*\"take\" + 0.013*\"get\" + 0.013*\"plane\" + 0.012*\"one\" + 0.011*\"n't\"\n",
      "\n",
      "2 : \n",
      "0.046*\"seat\" + 0.029*\"pay\" + 0.027*\"get\" + 0.023*\"n't\" + 0.021*\"cheap\" + 0.018*\"price\" + 0.018*\"airline\" + 0.017*\"ryanair\" + 0.014*\"good\" + 0.011*\"extra\"\n",
      "\n",
      "3 : \n",
      "0.041*\"fly\" + 0.037*\"time\" + 0.033*\"good\" + 0.025*\"airline\" + 0.024*\"service\" + 0.022*\"ryanair\" + 0.020*\"always\" + 0.015*\"price\" + 0.014*\"travel\" + 0.014*\"great\"\n",
      "\n",
      "4 : \n",
      "0.062*\"time\" + 0.041*\"good\" + 0.026*\"friendly\" + 0.026*\"board\" + 0.025*\"service\" + 0.021*\"nice\" + 0.018*\"crew\" + 0.016*\"land\" + 0.016*\"great\" + 0.016*\"arrive\"\n",
      "\n",
      "5 : \n",
      "0.056*\"book\" + 0.035*\"fly\" + 0.031*\"easy\" + 0.028*\"use\" + 0.028*\"check\" + 0.025*\"time\" + 0.023*\"airport\" + 0.021*\"airline\" + 0.019*\"ryanair\" + 0.018*\"online\"\n",
      "\n"
     ]
    }
   ],
   "source": [
    "#Careful, number assigned to a topic is different from real ldamodel to pyLDAvis \n",
    "topics = ldamodel.show_topics()\n",
    "for i, el in topics:\n",
    "    print('{} : \\n{}\\n'.format(i,el))"
   ]
  },
  {
   "cell_type": "markdown",
   "metadata": {},
   "source": [
    "## Predict my rate ! <a class=\"anchor\" id=\"predict-rate\"></a>"
   ]
  },
  {
   "cell_type": "markdown",
   "metadata": {},
   "source": [
    "#### Méthodologie\n",
    "\n",
    "Dans les commentaires scrappés, une note globale (rating) est donnée a la compagnie aérienne. \n",
    "\n",
    "L'idée du projet est donc de réussir à prédire la note en fonction du commentaire de la personne. \n",
    "Une idée d'application sur ce genre d'algorithme serait de :\n",
    "- détecter les cas où les commentaires laissent penser que l'évaluation est mauvaise alors que la note indiquée est très bonne (détéction d'anomalie)\n",
    "- créer un modèle capable de donner le sentiment positif, ou négatif d'un commentaire\n",
    "\n",
    "Soit $X$ le commentaire laissé en langage naturel. Soit $Y$ la note (rating), $Y\\in\\{1,...,5\\}$. Une note de 1 est une mauvaise note, à l'inverse 5 est la meilleure note. \n",
    "\n",
    "\n",
    "\n",
    "### Difficultés liées à cette modélisation \n",
    "\n",
    "* Les notes ont une relation de rang qu'il faut conserver. Une note de 1 est inférieure à une note de 2. En utilisant un modèle de classification à 5 classes, cette relation de rang ne sera pas conservée. \n",
    "* Il y a une fluctuation sur la note attribuée car les personnes qui notent ne le font pas selon la même méthdologie. Une personne qui a mis 1 aurait tout aussi bien pu mettre une note de 2. \n",
    "* Le commentaire peut ne pas concerner l'appréciation globale de la compagnie. Dans ce cas, il n'y a pas vraiment de lien entre la note et le commentaire. Ces données viendront donc affaiblir l'estimation du modèle. \n",
    "* Les notes ne sont pas équiréparties. Il y a plus de bonnes notes que de mauvaises notes. L'estimation devra tenir compte de cet élément en créant des classes qui possèdent le même nombre d'éléments pour éviter le surapprentissage sur les notes les plus représentées. \n",
    "* les commentaires sont écrits en langage naturel et doivent donc être nettoyés et transformés en features avant d'être intégrés au modèle de probabilité. \n",
    "\n",
    "Pour chacune de ces difficultés, nous allons construire une méthodologie permettant de les surmonter afin de construire le modèle globale qui servira à l'analyse. "
   ]
  },
  {
   "cell_type": "markdown",
   "metadata": {},
   "source": [
    "#### Construction d'une méthode d'échantillonnage "
   ]
  },
  {
   "cell_type": "code",
   "execution_count": 34,
   "metadata": {},
   "outputs": [],
   "source": [
    "# Fonction permettant de créer un échantillon de df pour lesquels les classes renseignées dans la colonne\n",
    "# column ont le même nombre d'éléments\n",
    "def custom_stratified(df,column):\n",
    "    # TODO : retourner également le dataframe des éléments qui ne font pas partie de l'échantillon. \n",
    "    pop = df.groupby(['rating']).count().reset_index()\n",
    "    N = pop.loc[pop['number'].idxmin()]['content']\n",
    "    \n",
    "    return pd.concat([\n",
    "        df[df[column] == c].sample(N) for c in df[column].unique()\n",
    "    ])"
   ]
  },
  {
   "cell_type": "markdown",
   "metadata": {},
   "source": [
    "#### Construction d'un modèle qui maintienne la relation de rang"
   ]
  },
  {
   "cell_type": "markdown",
   "metadata": {},
   "source": [
    "#### Modèle de régression <a class=\"anchor\" id=\"regression\"></a>\n",
    "\n",
    "La régression, dans la mesure où elle considère la variable à prédire comme une variable numérique tient compte par nature de la relation de rang. Une régression pourra donc être utilisée pour prédire la note. \n"
   ]
  },
  {
   "cell_type": "code",
   "execution_count": 36,
   "metadata": {},
   "outputs": [
    {
     "data": {
      "text/html": [
       "<div>\n",
       "<style scoped>\n",
       "    .dataframe tbody tr th:only-of-type {\n",
       "        vertical-align: middle;\n",
       "    }\n",
       "\n",
       "    .dataframe tbody tr th {\n",
       "        vertical-align: top;\n",
       "    }\n",
       "\n",
       "    .dataframe thead th {\n",
       "        text-align: right;\n",
       "    }\n",
       "</style>\n",
       "<table border=\"1\" class=\"dataframe\">\n",
       "  <thead>\n",
       "    <tr style=\"text-align: right;\">\n",
       "      <th></th>\n",
       "      <th>number</th>\n",
       "      <th>content</th>\n",
       "      <th>date</th>\n",
       "      <th>tokens</th>\n",
       "    </tr>\n",
       "    <tr>\n",
       "      <th>rating</th>\n",
       "      <th></th>\n",
       "      <th></th>\n",
       "      <th></th>\n",
       "      <th></th>\n",
       "    </tr>\n",
       "  </thead>\n",
       "  <tbody>\n",
       "    <tr>\n",
       "      <th>1</th>\n",
       "      <td>9499</td>\n",
       "      <td>9499</td>\n",
       "      <td>9499</td>\n",
       "      <td>9499</td>\n",
       "    </tr>\n",
       "    <tr>\n",
       "      <th>2</th>\n",
       "      <td>9548</td>\n",
       "      <td>9548</td>\n",
       "      <td>9548</td>\n",
       "      <td>9548</td>\n",
       "    </tr>\n",
       "    <tr>\n",
       "      <th>3</th>\n",
       "      <td>9503</td>\n",
       "      <td>9503</td>\n",
       "      <td>9503</td>\n",
       "      <td>9503</td>\n",
       "    </tr>\n",
       "  </tbody>\n",
       "</table>\n",
       "</div>"
      ],
      "text/plain": [
       "        number  content  date  tokens\n",
       "rating                               \n",
       "1         9499     9499  9499    9499\n",
       "2         9548     9548  9548    9548\n",
       "3         9503     9503  9503    9503"
      ]
     },
     "execution_count": 36,
     "metadata": {},
     "output_type": "execute_result"
    }
   ],
   "source": [
    "dict_split_class = {i:str(math.ceil(i/2)) for i in range(1,6)}\n",
    "df_regression = df.replace({'rating':dict_split_class})\n",
    "df_regression['rating'] = df_regression.rating.astype(int)\n",
    "df = custom_stratified(df_regression,'rating')\n",
    "train, test = train_test_split(df, test_size=0.2)\n",
    "big_test = df_regression.loc[df_regression.index.difference(df.index.values)] # use data not use in split data for test \n",
    "#test = big_test\n",
    "train.groupby(['rating']).count()"
   ]
  },
  {
   "cell_type": "markdown",
   "metadata": {},
   "source": [
    "###### Training part"
   ]
  },
  {
   "cell_type": "code",
   "execution_count": 35,
   "metadata": {},
   "outputs": [],
   "source": [
    "pipeline = Pipeline([\n",
    "    #<Construct the pipeline starting from content and finishing by a regression\n",
    "])"
   ]
  },
  {
   "cell_type": "code",
   "execution_count": 37,
   "metadata": {},
   "outputs": [
    {
     "data": {
      "text/plain": [
       "Pipeline(memory=None,\n",
       "     steps=[('vect', CountVectorizer(analyzer='word', binary=False, decode_error='strict',\n",
       "        dtype=<class 'numpy.int64'>, encoding='utf-8', input='content',\n",
       "        lowercase=True, max_df=1.0, max_features=None, min_df=1,\n",
       "        ngram_range=(1, 2), preprocessor=None, stop_words=None,\n",
       "        strip..., ('clf', LinearRegression(copy_X=True, fit_intercept=True, n_jobs=None,\n",
       "         normalize=False))])"
      ]
     },
     "execution_count": 37,
     "metadata": {},
     "output_type": "execute_result"
    }
   ],
   "source": [
    "train_text = train['content'].values\n",
    "train_y = train['rating'].values.astype(int)\n",
    "    \n",
    "test_text = test['content'].values\n",
    "test_y = test['rating'].values.astype(int)\n",
    "    \n",
    "#<fit the train set>"
   ]
  },
  {
   "cell_type": "markdown",
   "metadata": {},
   "source": [
    "###### Prediction part"
   ]
  },
  {
   "cell_type": "code",
   "execution_count": 38,
   "metadata": {},
   "outputs": [],
   "source": [
    "#<Predict the test set>"
   ]
  },
  {
   "cell_type": "code",
   "execution_count": 39,
   "metadata": {},
   "outputs": [],
   "source": [
    "def float_to_int_regression(x):\n",
    "    return int(round(x))\n",
    "    \n",
    "# define vectorized float_to_int_regression\n",
    "float_to_int_regression_v = np.vectorize(float_to_int_regression)\n",
    "predictions_int = float_to_int_regression_v(predictions)\n",
    "\n",
    "# replace max (resp. min) prediction by the maximum (resp. min) of the class \n",
    "predictions_int[predictions_int >max(test_y)] = max(test_y)\n",
    "predictions_int[predictions_int < min(test_y)] = min(test_y)"
   ]
  },
  {
   "cell_type": "code",
   "execution_count": 40,
   "metadata": {},
   "outputs": [],
   "source": [
    "def plot_confusion_matrix(cm, classes,\n",
    "                          normalize=False,\n",
    "                          title='Confusion matrix',\n",
    "                          cmap=plt.cm.Blues):\n",
    "    \"\"\"\n",
    "    This function prints and plots the confusion matrix.\n",
    "    Normalization can be applied by setting `normalize=True`.\n",
    "    \"\"\"\n",
    "    if normalize:\n",
    "        cm = cm.astype('float') / cm.sum(axis=1)[:, np.newaxis]\n",
    "        print(\"Normalized confusion matrix\")\n",
    "    else:\n",
    "        print('Confusion matrix, without normalization')\n",
    "\n",
    "    #print(cm)\n",
    "\n",
    "    plt.imshow(cm, interpolation='nearest', cmap=cmap)\n",
    "    plt.title(title)\n",
    "    plt.colorbar()\n",
    "    tick_marks = np.arange(len(classes))\n",
    "    plt.xticks(tick_marks, classes, rotation=45)\n",
    "    plt.yticks(tick_marks, classes)\n",
    "\n",
    "    fmt = '.2f' if normalize else 'd'\n",
    "    thresh = cm.max() / 2.\n",
    "    for i, j in itertools.product(range(cm.shape[0]), range(cm.shape[1])):\n",
    "        plt.text(j, i, format(cm[i, j], fmt),\n",
    "                 horizontalalignment=\"center\",\n",
    "                 color=\"white\" if cm[i, j] > thresh else \"black\")\n",
    "\n",
    "    plt.ylabel('True label')\n",
    "    plt.xlabel('Predicted label')\n",
    "    plt.tight_layout()\n",
    "    "
   ]
  },
  {
   "cell_type": "code",
   "execution_count": 41,
   "metadata": {},
   "outputs": [
    {
     "name": "stdout",
     "output_type": "stream",
     "text": [
      "Confusion matrix, without normalization\n",
      "Normalized confusion matrix\n"
     ]
    },
    {
     "data": {
      "image/png": "[encoded data removed]",
      "text/plain": [
       "<Figure size 432x288 with 2 Axes>"
      ]
     },
     "metadata": {
      "needs_background": "light"
     },
     "output_type": "display_data"
    },
    {
     "data": {
      "image/png": "[encoded data removed]",
      "text/plain": [
       "<Figure size 432x288 with 2 Axes>"
      ]
     },
     "metadata": {
      "needs_background": "light"
     },
     "output_type": "display_data"
    }
   ],
   "source": [
    "# Compute confusion matrix\n",
    "cnf_matrix = confusion_matrix(test_y, predictions_int)\n",
    "np.set_printoptions(precision=2)\n",
    "\n",
    "# Plot non-normalized confusion matrix\n",
    "plt.figure()\n",
    "plot_confusion_matrix(cnf_matrix, classes=set(train_y),\n",
    "                      title='Confusion matrix, without normalization')\n",
    "\n",
    "# Plot normalized confusion matrix\n",
    "plt.figure()\n",
    "plot_confusion_matrix(cnf_matrix, classes=set(train_y), normalize=True,\n",
    "                      title='Normalized confusion matrix')\n",
    "\n",
    "plt.show()"
   ]
  },
  {
   "cell_type": "markdown",
   "metadata": {},
   "source": [
    "#### Live prediction"
   ]
  },
  {
   "cell_type": "code",
   "execution_count": 51,
   "metadata": {
    "scrolled": true
   },
   "outputs": [
    {
     "data": {
      "text/plain": [
       "array([2.33])"
      ]
     },
     "execution_count": 51,
     "metadata": {},
     "output_type": "execute_result"
    }
   ],
   "source": [
    "pipeline.predict([\"quite greate\"])"
   ]
  }
 ],
 "metadata": {
  "kernelspec": {
   "display_name": "text_mining",
   "language": "python",
   "name": "text_mining"
  },
  "language_info": {
   "codemirror_mode": {
    "name": "ipython",
    "version": 3
   },
   "file_extension": ".py",
   "mimetype": "text/x-python",
   "name": "python",
   "nbconvert_exporter": "python",
   "pygments_lexer": "ipython3",
   "version": "3.5.0"
  }
 },
 "nbformat": 4,
 "nbformat_minor": 2
}
