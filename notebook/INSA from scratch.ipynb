{
 "cells": [
  {
   "cell_type": "markdown",
   "metadata": {},
   "source": [
    "\n",
    "<html>\n",
    "\n",
    "   <head>\n",
    "      <title>Font Face</title>\n",
    "   </head>\n",
    "\n",
    "   <body>\n",
    "      <font face = \"Comic sans MS\" size =\" 9\">Do some Text Mining in INSA</font><br />\n",
    "   </body>\n",
    "\n",
    "</html>\n",
    "![logo_insa](../www/logo_insa.png)\n",
    "First of all, create a folder on your computer following this structure : \n",
    "\n",
    "```\n",
    "project\n",
    "│   README.md   \n",
    "│\n",
    "└───notebook\n",
    "│   │   INSA from scratch.ipynb\n",
    "│   \n",
    "└───data\n",
    "│   │   reviews_airlines.csv\n",
    "│   \n",
    "└───output\n",
    "│   │   Myfiles.pckle\n",
    "│   \n",
    "└───wwww\n",
    "    │   logo_insa.png\n",
    "    \n",
    "```\n"
   ]
  },
  {
   "cell_type": "markdown",
   "metadata": {},
   "source": [
    "## TOC:\n",
    "* [Import data, cleaning and visualizing](#first-bullet)  \n",
    "    - [Visualizing](#visual)\n",
    "* [Preprocessing](#preprocessing)\n",
    "* [Topic Modeling](#topic-modeling)\n",
    "    - [Dimension reduction with NMF algorithm](#nmf)\n",
    "    - [LDA](#lda)\n",
    "* [Predict my rate !](#predict-rate)\n",
    "    - [Regression](#regression)\n",
    "    - [Classification](#classification)\n",
    "* [Source](#source)"
   ]
  },
  {
   "cell_type": "code",
   "execution_count": 72,
   "metadata": {},
   "outputs": [
    {
     "data": {
      "application/vnd.jupyter.widget-view+json": {
       "model_id": "edb58b9bf627435e9094760c013f622e",
       "version_major": 2,
       "version_minor": 0
      },
      "text/plain": [
       "HBox(children=(IntProgress(value=1, bar_style='info', max=1), HTML(value='')))"
      ]
     },
     "metadata": {},
     "output_type": "display_data"
    },
    {
     "name": "stdout",
     "output_type": "stream",
     "text": [
      "\n"
     ]
    },
    {
     "data": {
      "text/html": [
       "<script>requirejs.config({paths: { 'plotly': ['https://cdn.plot.ly/plotly-latest.min']},});if(!window.Plotly) {{require(['plotly'],function(plotly) {window.Plotly=plotly;});}}</script>"
      ],
      "text/vnd.plotly.v1+html": [
       "<script>requirejs.config({paths: { 'plotly': ['https://cdn.plot.ly/plotly-latest.min']},});if(!window.Plotly) {{require(['plotly'],function(plotly) {window.Plotly=plotly;});}}</script>"
      ]
     },
     "metadata": {},
     "output_type": "display_data"
    }
   ],
   "source": [
    "import pandas as pd\n",
    "import numpy as np\n",
    "import datetime\n",
    "import os\n",
    "import math\n",
    "\n",
    "import nltk\n",
    "from nltk.corpus import stopwords\n",
    "from nltk.stem.wordnet import WordNetLemmatizer\n",
    "from nltk.stem import PorterStemmer\n",
    "from sklearn import preprocessing\n",
    "import string\n",
    "import gensim\n",
    "from gensim import corpora\n",
    "from gensim.models import phrases, Phrases, coherencemodel\n",
    "from nltk import word_tokenize\n",
    "from tqdm import tqdm # for progress bar\n",
    "from tqdm import tqdm_notebook\n",
    "tqdm.pandas(desc='progress-bar')\n",
    "tqdm_notebook().pandas()\n",
    "import langdetect # to detect language\n",
    "from sklearn.feature_extraction.text import CountVectorizer\n",
    "from sklearn.feature_extraction.text import TfidfVectorizer\n",
    "from sklearn.feature_extraction.text import TfidfTransformer\n",
    "from sklearn.decomposition import NMF\n",
    "from sklearn.model_selection import train_test_split\n",
    "from sklearn.linear_model import LinearRegression\n",
    "from sklearn.metrics import confusion_matrix,f1_score,mean_squared_error,r2_score\n",
    "from sklearn.pipeline import Pipeline\n",
    "\n",
    "import seaborn as sns\n",
    "import plotly\n",
    "from plotly.offline import download_plotlyjs, init_notebook_mode, plot, iplot\n",
    "import plotly.plotly as py\n",
    "import plotly.graph_objs as go\n",
    "init_notebook_mode(connected=True)\n",
    "import matplotlib.pyplot as plt\n",
    "%matplotlib inline\n",
    "\n",
    "\n",
    "import pickle\n",
    "import itertools"
   ]
  },
  {
   "cell_type": "code",
   "execution_count": null,
   "metadata": {},
   "outputs": [],
   "source": [
    "# nltk.download('punkt')\n",
    "# nltk.download('wordnet')"
   ]
  },
  {
   "cell_type": "markdown",
   "metadata": {},
   "source": [
    "## Import data, cleaning and visualizing <a class=\"anchor\" id=\"first-bullet\"></a>"
   ]
  },
  {
   "cell_type": "code",
   "execution_count": 15,
   "metadata": {},
   "outputs": [],
   "source": [
    "airlines = pd.read_csv('../data/reviews_airlines.csv',sep=',',encoding='latin')"
   ]
  },
  {
   "cell_type": "code",
   "execution_count": 16,
   "metadata": {},
   "outputs": [
    {
     "data": {
      "text/html": [
       "<div>\n",
       "<style scoped>\n",
       "    .dataframe tbody tr th:only-of-type {\n",
       "        vertical-align: middle;\n",
       "    }\n",
       "\n",
       "    .dataframe tbody tr th {\n",
       "        vertical-align: top;\n",
       "    }\n",
       "\n",
       "    .dataframe thead th {\n",
       "        text-align: right;\n",
       "    }\n",
       "</style>\n",
       "<table border=\"1\" class=\"dataframe\">\n",
       "  <thead>\n",
       "    <tr style=\"text-align: right;\">\n",
       "      <th></th>\n",
       "      <th>cabin</th>\n",
       "      <th>content</th>\n",
       "      <th>date</th>\n",
       "      <th>destination</th>\n",
       "      <th>rating</th>\n",
       "      <th>route</th>\n",
       "      <th>title</th>\n",
       "      <th>source</th>\n",
       "    </tr>\n",
       "  </thead>\n",
       "  <tbody>\n",
       "    <tr>\n",
       "      <th>0</th>\n",
       "      <td>Economy</td>\n",
       "      <td>Easy check in, limited delay but plane was rel...</td>\n",
       "      <td>2018-09-25</td>\n",
       "      <td>Bristol - Pula</td>\n",
       "      <td>4.0</td>\n",
       "      <td>Europe</td>\n",
       "      <td>Cheap, easy flight</td>\n",
       "      <td>easyjet</td>\n",
       "    </tr>\n",
       "    <tr>\n",
       "      <th>1</th>\n",
       "      <td>Economy</td>\n",
       "      <td>NaN</td>\n",
       "      <td>NaN</td>\n",
       "      <td>Bristol - Pula</td>\n",
       "      <td>NaN</td>\n",
       "      <td>Europe</td>\n",
       "      <td>NaN</td>\n",
       "      <td>easyjet</td>\n",
       "    </tr>\n",
       "    <tr>\n",
       "      <th>2</th>\n",
       "      <td>Economy</td>\n",
       "      <td>We do not fly very often, so were a little fri...</td>\n",
       "      <td>2018-09-25</td>\n",
       "      <td>Prague - London</td>\n",
       "      <td>4.0</td>\n",
       "      <td>Europe</td>\n",
       "      <td>Return to UK</td>\n",
       "      <td>easyjet</td>\n",
       "    </tr>\n",
       "    <tr>\n",
       "      <th>3</th>\n",
       "      <td>Economy</td>\n",
       "      <td>We do not fly very often, so were a little fri...</td>\n",
       "      <td>2018-09-25</td>\n",
       "      <td>London - Prague</td>\n",
       "      <td>4.0</td>\n",
       "      <td>Europe</td>\n",
       "      <td>Prague</td>\n",
       "      <td>easyjet</td>\n",
       "    </tr>\n",
       "    <tr>\n",
       "      <th>4</th>\n",
       "      <td>Economy</td>\n",
       "      <td>Very positive experience. Fast service, clear ...</td>\n",
       "      <td>2018-09-25</td>\n",
       "      <td>Budapest - Canton of Geneva</td>\n",
       "      <td>5.0</td>\n",
       "      <td>Europe</td>\n",
       "      <td>Very positive</td>\n",
       "      <td>easyjet</td>\n",
       "    </tr>\n",
       "  </tbody>\n",
       "</table>\n",
       "</div>"
      ],
      "text/plain": [
       "     cabin                                            content        date  \\\n",
       "0  Economy  Easy check in, limited delay but plane was rel...  2018-09-25   \n",
       "1  Economy                                                NaN         NaN   \n",
       "2  Economy  We do not fly very often, so were a little fri...  2018-09-25   \n",
       "3  Economy  We do not fly very often, so were a little fri...  2018-09-25   \n",
       "4  Economy  Very positive experience. Fast service, clear ...  2018-09-25   \n",
       "\n",
       "                   destination  rating   route               title   source  \n",
       "0               Bristol - Pula     4.0  Europe  Cheap, easy flight  easyjet  \n",
       "1               Bristol - Pula     NaN  Europe                 NaN  easyjet  \n",
       "2              Prague - London     4.0  Europe        Return to UK  easyjet  \n",
       "3              London - Prague     4.0  Europe              Prague  easyjet  \n",
       "4  Budapest - Canton of Geneva     5.0  Europe       Very positive  easyjet  "
      ]
     },
     "execution_count": 16,
     "metadata": {},
     "output_type": "execute_result"
    }
   ],
   "source": [
    "airlines.head()"
   ]
  },
  {
   "cell_type": "code",
   "execution_count": 17,
   "metadata": {},
   "outputs": [
    {
     "name": "stdout",
     "output_type": "stream",
     "text": [
      "Number of reviews:  74435\n"
     ]
    }
   ],
   "source": [
    "print('Number of reviews: ', airlines.shape[0])"
   ]
  },
  {
   "cell_type": "markdown",
   "metadata": {},
   "source": [
    "Now, let's only keep the stars, text and number of the review to work on.\n",
    "We add the number column in case we change the index later"
   ]
  },
  {
   "cell_type": "code",
   "execution_count": 78,
   "metadata": {},
   "outputs": [],
   "source": [
    "airlines['number'] = airlines.index\n",
    "airlines['date'] = pd.to_datetime(airlines['date'])\n",
    "airlines['month'] = airlines.date.apply(lambda x: x.month)\n",
    "airlines['year'] = airlines.date.apply(lambda x: x.year)\n",
    "df = airlines[['number','content','rating','date']].copy()\n",
    "df = df.dropna()"
   ]
  },
  {
   "cell_type": "markdown",
   "metadata": {},
   "source": [
    "### Visualizing<a class=\"anchor\" id=\"visual\"></a>"
   ]
  },
  {
   "cell_type": "code",
   "execution_count": 19,
   "metadata": {},
   "outputs": [
    {
     "data": {
      "image/png": "[encoded data removed]",
      "text/plain": [
       "<Figure size 432x288 with 1 Axes>"
      ]
     },
     "metadata": {},
     "output_type": "display_data"
    }
   ],
   "source": [
    "X_ratings = df.rating.value_counts()\n",
    "ax = sns.barplot(X_ratings.index,X_ratings,alpha=0.8)\n",
    "ax.set(xlabel='Ratings',ylabel='Frequencies',title='Frequencies of ratings over the {} reviews'.format(df.shape[0]))\n",
    "plt.show()"
   ]
  },
  {
   "cell_type": "code",
   "execution_count": 7,
   "metadata": {},
   "outputs": [
    {
     "name": "stderr",
     "output_type": "stream",
     "text": [
      "/anaconda3/lib/python3.6/site-packages/matplotlib/axes/_axes.py:6462: UserWarning:\n",
      "\n",
      "The 'normed' kwarg is deprecated, and has been replaced by the 'density' kwarg.\n",
      "\n"
     ]
    },
    {
     "data": {
      "image/png": "[encoded data removed]",
      "text/plain": [
       "<Figure size 864x360 with 1 Axes>"
      ]
     },
     "metadata": {},
     "output_type": "display_data"
    }
   ],
   "source": [
    "ax = plt.figure(figsize=(12,5))\n",
    "sns.distplot(df['content'].apply(lambda x:len(str(x))))\n",
    "plt.title('Characters distributions')\n",
    "plt.xticks(range(0,5500,500))\n",
    "plt.show()"
   ]
  },
  {
   "cell_type": "markdown",
   "metadata": {},
   "source": [
    "Checking the most frequent words in the corpus (except stop words)"
   ]
  },
  {
   "cell_type": "code",
   "execution_count": 34,
   "metadata": {},
   "outputs": [],
   "source": [
    "stopW = stopwords.words('english')\n",
    "\n",
    "allWords = []\n",
    "for sent in df['content'].tolist():\n",
    "    for word in sent.split():\n",
    "        wordl=word.lower()\n",
    "        if wordl not in stopW:\n",
    "            allWords.append(wordl)\n",
    "dist = nltk.FreqDist(allWords)"
   ]
  },
  {
   "cell_type": "code",
   "execution_count": 35,
   "metadata": {},
   "outputs": [
    {
     "data": {
      "image/png": "[encoded data removed]",
      "text/plain": [
       "<Figure size 432x288 with 1 Axes>"
      ]
     },
     "metadata": {},
     "output_type": "display_data"
    }
   ],
   "source": [
    "X = [nb[1] for nb in dist.most_common(20)]\n",
    "y = [nb[0] for nb in dist.most_common(20)]\n",
    "ax = sns.barplot(X,y)\n",
    "ax.set(xlabel='Word frequencies',ylabel='Words',title='Most common words in the corpus')\n",
    "plt.show()"
   ]
  },
  {
   "cell_type": "markdown",
   "metadata": {},
   "source": [
    "Let's checking the rating evolution by source with a heatmap ! "
   ]
  },
  {
   "cell_type": "code",
   "execution_count": 22,
   "metadata": {},
   "outputs": [],
   "source": [
    "df_heatmap = airlines[['source','month','rating']].copy()\n",
    "df_heatmap = df_heatmap.groupby(['source', 'month']).mean().reset_index()\n",
    "df_heatmap[\"source\"] = pd.Categorical(df_heatmap[\"source\"], df_heatmap.source.unique())\n"
   ]
  },
  {
   "cell_type": "code",
   "execution_count": 23,
   "metadata": {},
   "outputs": [
    {
     "data": {
      "text/html": [
       "<div>\n",
       "<style scoped>\n",
       "    .dataframe tbody tr th:only-of-type {\n",
       "        vertical-align: middle;\n",
       "    }\n",
       "\n",
       "    .dataframe tbody tr th {\n",
       "        vertical-align: top;\n",
       "    }\n",
       "\n",
       "    .dataframe thead th {\n",
       "        text-align: right;\n",
       "    }\n",
       "</style>\n",
       "<table border=\"1\" class=\"dataframe\">\n",
       "  <thead>\n",
       "    <tr style=\"text-align: right;\">\n",
       "      <th>month</th>\n",
       "      <th>1.0</th>\n",
       "      <th>2.0</th>\n",
       "      <th>3.0</th>\n",
       "      <th>4.0</th>\n",
       "      <th>5.0</th>\n",
       "      <th>6.0</th>\n",
       "      <th>7.0</th>\n",
       "      <th>8.0</th>\n",
       "      <th>9.0</th>\n",
       "      <th>10.0</th>\n",
       "      <th>11.0</th>\n",
       "      <th>12.0</th>\n",
       "    </tr>\n",
       "    <tr>\n",
       "      <th>source</th>\n",
       "      <th></th>\n",
       "      <th></th>\n",
       "      <th></th>\n",
       "      <th></th>\n",
       "      <th></th>\n",
       "      <th></th>\n",
       "      <th></th>\n",
       "      <th></th>\n",
       "      <th></th>\n",
       "      <th></th>\n",
       "      <th></th>\n",
       "      <th></th>\n",
       "    </tr>\n",
       "  </thead>\n",
       "  <tbody>\n",
       "    <tr>\n",
       "      <th>easyjet</th>\n",
       "      <td>3.829949</td>\n",
       "      <td>3.866894</td>\n",
       "      <td>3.732381</td>\n",
       "      <td>3.562963</td>\n",
       "      <td>3.769466</td>\n",
       "      <td>3.562100</td>\n",
       "      <td>3.258045</td>\n",
       "      <td>3.615429</td>\n",
       "      <td>3.670475</td>\n",
       "      <td>3.471535</td>\n",
       "      <td>3.463542</td>\n",
       "      <td>3.869271</td>\n",
       "    </tr>\n",
       "    <tr>\n",
       "      <th>ryanair</th>\n",
       "      <td>3.123369</td>\n",
       "      <td>3.359918</td>\n",
       "      <td>3.286080</td>\n",
       "      <td>3.188650</td>\n",
       "      <td>3.160332</td>\n",
       "      <td>2.993210</td>\n",
       "      <td>2.686223</td>\n",
       "      <td>3.277718</td>\n",
       "      <td>3.070392</td>\n",
       "      <td>3.254464</td>\n",
       "      <td>2.941545</td>\n",
       "      <td>3.383543</td>\n",
       "    </tr>\n",
       "    <tr>\n",
       "      <th>transavia</th>\n",
       "      <td>3.515909</td>\n",
       "      <td>3.622024</td>\n",
       "      <td>3.623077</td>\n",
       "      <td>3.597107</td>\n",
       "      <td>3.462428</td>\n",
       "      <td>3.591216</td>\n",
       "      <td>3.494071</td>\n",
       "      <td>3.562005</td>\n",
       "      <td>3.549451</td>\n",
       "      <td>3.622449</td>\n",
       "      <td>3.754569</td>\n",
       "      <td>3.748276</td>\n",
       "    </tr>\n",
       "  </tbody>\n",
       "</table>\n",
       "</div>"
      ],
      "text/plain": [
       "month          1.0       2.0       3.0       4.0       5.0       6.0   \\\n",
       "source                                                                  \n",
       "easyjet    3.829949  3.866894  3.732381  3.562963  3.769466  3.562100   \n",
       "ryanair    3.123369  3.359918  3.286080  3.188650  3.160332  2.993210   \n",
       "transavia  3.515909  3.622024  3.623077  3.597107  3.462428  3.591216   \n",
       "\n",
       "month          7.0       8.0       9.0       10.0      11.0      12.0  \n",
       "source                                                                 \n",
       "easyjet    3.258045  3.615429  3.670475  3.471535  3.463542  3.869271  \n",
       "ryanair    2.686223  3.277718  3.070392  3.254464  2.941545  3.383543  \n",
       "transavia  3.494071  3.562005  3.549451  3.622449  3.754569  3.748276  "
      ]
     },
     "execution_count": 23,
     "metadata": {},
     "output_type": "execute_result"
    }
   ],
   "source": [
    "heatmap_matrix = df_heatmap.pivot(\"source\", \"month\", \"rating\")\n",
    "heatmap_matrix"
   ]
  },
  {
   "cell_type": "code",
   "execution_count": 24,
   "metadata": {},
   "outputs": [
    {
     "name": "stderr",
     "output_type": "stream",
     "text": [
      "/anaconda3/lib/python3.6/site-packages/ipykernel_launcher.py:3: FutureWarning:\n",
      "\n",
      "Method .as_matrix will be removed in a future version. Use .values instead.\n",
      "\n"
     ]
    },
    {
     "data": {
      "application/vnd.plotly.v1+json": {
       "data": [
        {
         "colorscale": [
          [
           0,
           "#edf8fb"
          ],
          [
           0.3,
           "#b3cde3"
          ],
          [
           0.6,
           "#8856a7"
          ],
          [
           1,
           "#810f7c"
          ]
         ],
         "type": "heatmap",
         "uid": "260682fa-c42d-11e8-988a-70568192a1c1",
         "x": [
          1,
          2,
          3,
          4,
          5,
          6,
          7,
          8,
          9,
          10,
          11,
          12
         ],
         "y": [
          "easyjet",
          "ryanair",
          "transavia"
         ],
         "z": [
          [
           3.8299492385786804,
           3.8668941979522184,
           3.7323809523809524,
           3.562962962962963,
           3.769465648854962,
           3.5621004566210046,
           3.2580445544554455,
           3.6154287901990814,
           3.670474516695958,
           3.4715346534653464,
           3.4635416666666665,
           3.8692712246431253
          ],
          [
           3.1233689205219455,
           3.359918200408998,
           3.286080273270709,
           3.188650306748466,
           3.160332022717344,
           2.993210109392682,
           2.6862231534834993,
           3.2777183600713014,
           3.0703922622246105,
           3.2544642857142856,
           2.941544885177453,
           3.3835434638354345
          ],
          [
           3.515909090909091,
           3.6220238095238093,
           3.623076923076923,
           3.597107438016529,
           3.46242774566474,
           3.5912162162162162,
           3.494071146245059,
           3.5620052770448547,
           3.5494505494505493,
           3.622448979591837,
           3.754569190600522,
           3.7482758620689656
          ]
         ]
        }
       ],
       "layout": {}
      },
      "text/html": [
       "<div id=\"825f19f3-f40b-4cc7-aeb1-a8bd10571a13\" style=\"height: 525px; width: 100%;\" class=\"plotly-graph-div\"></div><script type=\"text/javascript\">require([\"plotly\"], function(Plotly) { window.PLOTLYENV=window.PLOTLYENV || {};window.PLOTLYENV.BASE_URL=\"https://plot.ly\";Plotly.newPlot(\"825f19f3-f40b-4cc7-aeb1-a8bd10571a13\", [{\"colorscale\": [[0, \"#edf8fb\"], [0.3, \"#b3cde3\"], [0.6, \"#8856a7\"], [1, \"#810f7c\"]], \"x\": [1.0, 2.0, 3.0, 4.0, 5.0, 6.0, 7.0, 8.0, 9.0, 10.0, 11.0, 12.0], \"y\": [\"easyjet\", \"ryanair\", \"transavia\"], \"z\": [[3.8299492385786804, 3.8668941979522184, 3.7323809523809524, 3.562962962962963, 3.769465648854962, 3.5621004566210046, 3.2580445544554455, 3.6154287901990814, 3.670474516695958, 3.4715346534653464, 3.4635416666666665, 3.8692712246431253], [3.1233689205219455, 3.359918200408998, 3.286080273270709, 3.188650306748466, 3.160332022717344, 2.993210109392682, 2.6862231534834993, 3.2777183600713014, 3.0703922622246105, 3.2544642857142856, 2.941544885177453, 3.3835434638354345], [3.515909090909091, 3.6220238095238093, 3.623076923076923, 3.597107438016529, 3.46242774566474, 3.5912162162162162, 3.494071146245059, 3.5620052770448547, 3.5494505494505493, 3.622448979591837, 3.754569190600522, 3.7482758620689656]], \"type\": \"heatmap\", \"uid\": \"260b0c9e-c42d-11e8-894b-70568192a1c1\"}], {}, {\"showLink\": true, \"linkText\": \"Export to plot.ly\"})});</script>"
      ],
      "text/vnd.plotly.v1+html": [
       "<div id=\"825f19f3-f40b-4cc7-aeb1-a8bd10571a13\" style=\"height: 525px; width: 100%;\" class=\"plotly-graph-div\"></div><script type=\"text/javascript\">require([\"plotly\"], function(Plotly) { window.PLOTLYENV=window.PLOTLYENV || {};window.PLOTLYENV.BASE_URL=\"https://plot.ly\";Plotly.newPlot(\"825f19f3-f40b-4cc7-aeb1-a8bd10571a13\", [{\"colorscale\": [[0, \"#edf8fb\"], [0.3, \"#b3cde3\"], [0.6, \"#8856a7\"], [1, \"#810f7c\"]], \"x\": [1.0, 2.0, 3.0, 4.0, 5.0, 6.0, 7.0, 8.0, 9.0, 10.0, 11.0, 12.0], \"y\": [\"easyjet\", \"ryanair\", \"transavia\"], \"z\": [[3.8299492385786804, 3.8668941979522184, 3.7323809523809524, 3.562962962962963, 3.769465648854962, 3.5621004566210046, 3.2580445544554455, 3.6154287901990814, 3.670474516695958, 3.4715346534653464, 3.4635416666666665, 3.8692712246431253], [3.1233689205219455, 3.359918200408998, 3.286080273270709, 3.188650306748466, 3.160332022717344, 2.993210109392682, 2.6862231534834993, 3.2777183600713014, 3.0703922622246105, 3.2544642857142856, 2.941544885177453, 3.3835434638354345], [3.515909090909091, 3.6220238095238093, 3.623076923076923, 3.597107438016529, 3.46242774566474, 3.5912162162162162, 3.494071146245059, 3.5620052770448547, 3.5494505494505493, 3.622448979591837, 3.754569190600522, 3.7482758620689656]], \"type\": \"heatmap\", \"uid\": \"260b0c9e-c42d-11e8-894b-70568192a1c1\"}], {}, {\"showLink\": true, \"linkText\": \"Export to plot.ly\"})});</script>"
      ]
     },
     "metadata": {},
     "output_type": "display_data"
    }
   ],
   "source": [
    "colorscale = [[0, '#edf8fb'], [.3, '#b3cde3'],  [.6, '#8856a7'],  [1, '#810f7c']]\n",
    "\n",
    "heatmap = go.Heatmap(z=heatmap_matrix.as_matrix(), x=heatmap_matrix.columns, y=heatmap_matrix.index, colorscale=colorscale)\n",
    "data = [heatmap]\n",
    "plotly.offline.iplot(data, filename='basic-heatmap')"
   ]
  },
  {
   "cell_type": "markdown",
   "metadata": {},
   "source": [
    "## Preprocessing<a class=\"anchor\" id=\"preprocessing\"></a>\n",
    "First, we lower the text.\n",
    "Then, we remove:\n",
    "- Stop Words\n",
    "- words with a length less than 2 characters\n",
    "- punctuation \n",
    "- more stopwords based on more frequent words we saw previously and that will not help us for topic extraction\n",
    "\n",
    "We also use lemmatization on nouns, verbs and adjectives to get more consistent features and reduce the dimensionality of the future matrices"
   ]
  },
  {
   "cell_type": "code",
   "execution_count": 21,
   "metadata": {},
   "outputs": [],
   "source": [
    "more_stopwords=['flight','staff','airport''n\\'t','...','\\'ve','\\'re']\n",
    "exclude = set(string.punctuation)\n",
    "stopW = stopwords.words('english')\n",
    "lemma = WordNetLemmatizer()\n",
    "\n",
    "def preprocessing(sent):\n",
    "    tokens = word_tokenize(sent)\n",
    "    tokens = [w.lower() for w in tokens if w.lower() not in stopW]   \n",
    "    tokens = [w for w in tokens if len(w)>2]\n",
    "    tokens = [lemma.lemmatize(lemma.lemmatize(lemma.lemmatize(w,pos='a'),pos='v'),pos='n') for w in tokens]\n",
    "    tokens = [w for w in tokens if w not in exclude]\n",
    "    tokens = [w for w in tokens if w not in more_stopwords]    \n",
    "    return tokens"
   ]
  },
  {
   "cell_type": "code",
   "execution_count": 9,
   "metadata": {},
   "outputs": [
    {
     "data": {
      "application/vnd.jupyter.widget-view+json": {
       "model_id": "9025a3cab5e3414480ad88613a0a0fea",
       "version_major": 2,
       "version_minor": 0
      },
      "text/plain": [
       "HBox(children=(IntProgress(value=0, max=50102), HTML(value='')))"
      ]
     },
     "metadata": {},
     "output_type": "display_data"
    },
    {
     "name": "stdout",
     "output_type": "stream",
     "text": [
      "\n"
     ]
    }
   ],
   "source": [
    "df['tokens'] = df['content'].progress_apply(preprocessing)"
   ]
  },
  {
   "cell_type": "markdown",
   "metadata": {},
   "source": [
    "Let's save the DataFrame using pickle"
   ]
  },
  {
   "cell_type": "code",
   "execution_count": 42,
   "metadata": {},
   "outputs": [],
   "source": [
    "with open('../output/content_preprocessed.pickle', 'wb') as output:\n",
    "    pickle.dump(df, output)"
   ]
  },
  {
   "cell_type": "markdown",
   "metadata": {},
   "source": [
    "If you want to load the pickle file : "
   ]
  },
  {
   "cell_type": "code",
   "execution_count": 26,
   "metadata": {},
   "outputs": [],
   "source": [
    "#with open('../output/content_preprocessed.pickle', 'rb') as input:\n",
    "#    df = pickle.load(input)"
   ]
  },
  {
   "cell_type": "markdown",
   "metadata": {},
   "source": [
    "Let's add the bigrams too"
   ]
  },
  {
   "cell_type": "code",
   "execution_count": 43,
   "metadata": {},
   "outputs": [],
   "source": [
    "tokens = df['tokens'].tolist()\n",
    "bigram =  Phrases(tokens, min_count = 10)\n",
    "bigram_mod = phrases.Phraser(bigram)\n",
    "allTokens = list([bigram_mod[tokens]])\n",
    "allTokens = [[t for t in token if t not in stopW] for token in allTokens]"
   ]
  },
  {
   "cell_type": "markdown",
   "metadata": {},
   "source": [
    "Let's save the tokens and check the first few tokens"
   ]
  },
  {
   "cell_type": "code",
   "execution_count": 45,
   "metadata": {
    "scrolled": true
   },
   "outputs": [],
   "source": [
    "with open('../output/allTokens.pickle', 'wb') as output:\n",
    "    pickle.dump(allTokens, output)"
   ]
  },
  {
   "cell_type": "markdown",
   "metadata": {},
   "source": [
    "If you want to load the pickle file : "
   ]
  },
  {
   "cell_type": "code",
   "execution_count": 27,
   "metadata": {},
   "outputs": [],
   "source": [
    "#with open('../output/allTokens.pickle', 'rb') as input:\n",
    "#    allTokens = pickle.load(input)"
   ]
  },
  {
   "cell_type": "code",
   "execution_count": null,
   "metadata": {},
   "outputs": [],
   "source": [
    "allTokens[:10]"
   ]
  },
  {
   "cell_type": "markdown",
   "metadata": {},
   "source": [
    "## Topic Modeling<a class=\"anchor\" id=\"topic-modeling\"></a>"
   ]
  },
  {
   "cell_type": "markdown",
   "metadata": {},
   "source": [
    "### Dimension reduction with NMF algorithm<a class=\"anchor\" id=\"nmf\"></a>\n",
    "\n",
    "Less powerful than LDA, NMF gives us a quick way to visualize topics"
   ]
  },
  {
   "cell_type": "code",
   "execution_count": 28,
   "metadata": {},
   "outputs": [],
   "source": [
    "tfidf_vectorizer = TfidfVectorizer(max_df=0.95, min_df=3, stop_words='english') # set the parameters for automatic selection of words"
   ]
  },
  {
   "cell_type": "code",
   "execution_count": 29,
   "metadata": {},
   "outputs": [],
   "source": [
    "TermDocument = tfidf_vectorizer.fit_transform(df.content) # feed with your articles"
   ]
  },
  {
   "cell_type": "code",
   "execution_count": 30,
   "metadata": {},
   "outputs": [],
   "source": [
    "n_dimensions = 6 # This can also be interpreted as topics in this case. This is the \"beauty\" of NMF. 6 is arbitrary\n",
    "nmf = NMF(n_components=n_dimensions, random_state=42, alpha=.1, l1_ratio=.5).fit(TermDocument) "
   ]
  },
  {
   "cell_type": "code",
   "execution_count": 31,
   "metadata": {},
   "outputs": [],
   "source": [
    "W = nmf.fit_transform(TermDocument)\n",
    "H = nmf.components_"
   ]
  },
  {
   "cell_type": "code",
   "execution_count": 32,
   "metadata": {},
   "outputs": [
    {
     "name": "stdout",
     "output_type": "stream",
     "text": [
      "Topic #0:\n",
      "ryanair airline flights fly cheap low times cost easyjet budget\n",
      "Topic #1:\n",
      "luggage extra boarding seats hand priority pay seat bag paid\n",
      "Topic #2:\n",
      "flight delayed time hour late airport hours minutes plane delay\n",
      "Topic #3:\n",
      "staff friendly helpful crew time cabin flight great clean pleasant\n",
      "Topic #4:\n",
      "easy jet check online booking quick boarding airport use drop\n",
      "Topic #5:\n",
      "good service value flight price money food time board overall\n",
      "\n"
     ]
    }
   ],
   "source": [
    "words = tfidf_vectorizer.get_feature_names()\n",
    "n_top_words = 10 # print 10 words by dimension. You can change this number\n",
    "\n",
    "# Loop for each dimension: what words are the most dominant in each dimension\n",
    "for i_dimension, dimension in enumerate(nmf.components_):\n",
    "    print(\"Topic #%d:\" % i_dimension)\n",
    "    print(\" \".join([words[i] for i in dimension.argsort()[:-n_top_words - 1:-1]]))\n",
    "print()"
   ]
  },
  {
   "cell_type": "markdown",
   "metadata": {},
   "source": [
    "### Latent Dirichlet Allocation (LDA) <a class=\"anchor\" id=\"lda\"></a>\n",
    "*Tips* : conda install -c conda-forge pyldavis"
   ]
  },
  {
   "cell_type": "markdown",
   "metadata": {},
   "source": [
    "select_corpus() is a function to return all words in a single List, that we will use for LDA"
   ]
  },
  {
   "cell_type": "code",
   "execution_count": 33,
   "metadata": {},
   "outputs": [],
   "source": [
    "def select_corpus():\n",
    "    allWords=[]\n",
    "    for sent in allTokens:\n",
    "        for word in sent:\n",
    "            allWords.append(word)\n",
    "    return allWords"
   ]
  },
  {
   "cell_type": "code",
   "execution_count": 34,
   "metadata": {},
   "outputs": [],
   "source": [
    "tokens_for_lda = select_corpus()\n",
    "dictionary = corpora.Dictionary(tokens_for_lda)\n",
    "doc_term_matrix = [dictionary.doc2bow(doc) for doc in tokens_for_lda]"
   ]
  },
  {
   "cell_type": "code",
   "execution_count": 35,
   "metadata": {},
   "outputs": [
    {
     "name": "stderr",
     "output_type": "stream",
     "text": [
      "/anaconda3/lib/python3.6/site-packages/gensim/models/ldamodel.py:1023: RuntimeWarning:\n",
      "\n",
      "divide by zero encountered in log\n",
      "\n"
     ]
    }
   ],
   "source": [
    "number_of_topics = 6\n",
    "Lda = gensim.models.ldamodel.LdaModel\n",
    "ldamodel = Lda(doc_term_matrix,num_topics = number_of_topics, id2word = dictionary,passes=4,random_state=42,alpha=[0.1]*number_of_topics,eta=[0.01]*len(dictionary))"
   ]
  },
  {
   "cell_type": "code",
   "execution_count": 36,
   "metadata": {},
   "outputs": [],
   "source": [
    "ldamodel.save('../output/lda6.model')\n",
    "#ldamodel = gensim.models.ldamodel.LdaModel.load('../output/lda6.model')"
   ]
  },
  {
   "cell_type": "code",
   "execution_count": 38,
   "metadata": {},
   "outputs": [
    {
     "name": "stderr",
     "output_type": "stream",
     "text": [
      "/anaconda3/lib/python3.6/site-packages/pyLDAvis/_prepare.py:257: FutureWarning:\n",
      "\n",
      "Sorting because non-concatenation axis is not aligned. A future version\n",
      "of pandas will change to not sort by default.\n",
      "\n",
      "To accept the future behavior, pass 'sort=True'.\n",
      "\n",
      "To retain the current behavior and silence the warning, pass sort=False\n",
      "\n",
      "\n"
     ]
    },
    {
     "data": {
      "text/html": [
       "\n",
       "<link rel=\"stylesheet\" type=\"text/css\" href=\"https://cdn.rawgit.com/bmabey/pyLDAvis/files/ldavis.v1.0.0.css\">\n",
       "\n",
       "\n",
       "<div id=\"ldavis_el1529112590757704948052963\"></div>\n",
       "<script type=\"text/javascript\">\n",
       "\n",
       "var ldavis_el1529112590757704948052963_data = {\"mdsDat\": {\"x\": [0.21121264284474214, -0.18698452145162384, 0.00032679829339832153, 0.19028096943511008, -0.14185656905377697, -0.07297932006784975], \"y\": [0.03446999410190575, 0.044094959295517, 0.15815748866286297, -0.12434548820414879, -0.23770225015530755, 0.1253252962991707], \"topics\": [1, 2, 3, 4, 5, 6], \"cluster\": [1, 1, 1, 1, 1, 1], \"Freq\": [22.42044448852539, 18.615848541259766, 17.788631439208984, 17.078502655029297, 14.031513214111328, 10.065059661865234]}, \"tinfo\": {\"Category\": [\"Default\", \"Default\", \"Default\", \"Default\", \"Default\", \"Default\", \"Default\", \"Default\", \"Default\", \"Default\", \"Default\", \"Default\", \"Default\", \"Default\", \"Default\", \"Default\", \"Default\", \"Default\", \"Default\", \"Default\", \"Default\", \"Default\", \"Default\", \"Default\", \"Default\", \"Default\", \"Default\", \"Default\", \"Default\", \"Default\", \"Topic1\", \"Topic1\", \"Topic1\", \"Topic1\", \"Topic1\", \"Topic1\", \"Topic1\", \"Topic1\", \"Topic1\", \"Topic1\", \"Topic1\", \"Topic1\", \"Topic1\", \"Topic1\", \"Topic1\", \"Topic1\", \"Topic1\", \"Topic1\", \"Topic1\", \"Topic1\", \"Topic1\", \"Topic1\", \"Topic1\", \"Topic1\", \"Topic1\", \"Topic1\", \"Topic1\", \"Topic1\", \"Topic1\", \"Topic1\", \"Topic1\", \"Topic1\", \"Topic1\", \"Topic1\", \"Topic1\", \"Topic1\", \"Topic1\", \"Topic1\", \"Topic1\", \"Topic1\", \"Topic1\", \"Topic1\", \"Topic1\", \"Topic1\", \"Topic1\", \"Topic1\", \"Topic1\", \"Topic1\", \"Topic1\", \"Topic1\", \"Topic1\", \"Topic1\", \"Topic1\", \"Topic1\", \"Topic1\", \"Topic1\", \"Topic1\", \"Topic1\", \"Topic1\", \"Topic1\", \"Topic1\", \"Topic1\", \"Topic1\", \"Topic1\", \"Topic1\", \"Topic1\", \"Topic1\", \"Topic2\", \"Topic2\", \"Topic2\", \"Topic2\", \"Topic2\", \"Topic2\", \"Topic2\", \"Topic2\", \"Topic2\", \"Topic2\", \"Topic2\", \"Topic2\", \"Topic2\", \"Topic2\", \"Topic2\", \"Topic2\", \"Topic2\", \"Topic2\", \"Topic2\", \"Topic2\", \"Topic2\", \"Topic2\", \"Topic2\", \"Topic2\", \"Topic2\", \"Topic2\", \"Topic2\", \"Topic2\", \"Topic2\", \"Topic2\", \"Topic2\", \"Topic2\", \"Topic2\", \"Topic2\", \"Topic2\", \"Topic2\", \"Topic2\", \"Topic2\", \"Topic2\", \"Topic2\", \"Topic2\", \"Topic2\", \"Topic2\", \"Topic2\", \"Topic2\", \"Topic2\", \"Topic2\", \"Topic2\", \"Topic2\", \"Topic2\", \"Topic2\", \"Topic2\", \"Topic2\", \"Topic2\", \"Topic2\", \"Topic2\", \"Topic2\", \"Topic2\", \"Topic2\", \"Topic2\", \"Topic2\", \"Topic2\", \"Topic2\", \"Topic2\", \"Topic2\", \"Topic2\", \"Topic2\", \"Topic2\", \"Topic2\", \"Topic3\", \"Topic3\", \"Topic3\", \"Topic3\", \"Topic3\", \"Topic3\", \"Topic3\", \"Topic3\", \"Topic3\", \"Topic3\", \"Topic3\", \"Topic3\", \"Topic3\", \"Topic3\", \"Topic3\", \"Topic3\", \"Topic3\", \"Topic3\", \"Topic3\", \"Topic3\", \"Topic3\", \"Topic3\", \"Topic3\", \"Topic3\", \"Topic3\", \"Topic3\", \"Topic3\", \"Topic3\", \"Topic3\", \"Topic3\", \"Topic3\", \"Topic3\", \"Topic3\", \"Topic3\", \"Topic3\", \"Topic3\", \"Topic3\", \"Topic3\", \"Topic3\", \"Topic3\", \"Topic3\", \"Topic3\", \"Topic3\", \"Topic3\", \"Topic3\", \"Topic3\", \"Topic3\", \"Topic3\", \"Topic3\", \"Topic3\", \"Topic3\", \"Topic3\", \"Topic3\", \"Topic3\", \"Topic3\", \"Topic3\", \"Topic3\", \"Topic3\", \"Topic3\", \"Topic3\", \"Topic3\", \"Topic3\", \"Topic3\", \"Topic3\", \"Topic3\", \"Topic3\", \"Topic3\", \"Topic3\", \"Topic3\", \"Topic3\", \"Topic3\", \"Topic3\", \"Topic3\", \"Topic3\", \"Topic4\", \"Topic4\", \"Topic4\", \"Topic4\", \"Topic4\", \"Topic4\", \"Topic4\", \"Topic4\", \"Topic4\", \"Topic4\", \"Topic4\", \"Topic4\", \"Topic4\", \"Topic4\", \"Topic4\", \"Topic4\", \"Topic4\", \"Topic4\", \"Topic4\", \"Topic4\", \"Topic4\", \"Topic4\", \"Topic4\", \"Topic4\", \"Topic4\", \"Topic4\", \"Topic4\", \"Topic4\", \"Topic4\", \"Topic4\", \"Topic4\", \"Topic4\", \"Topic4\", \"Topic4\", \"Topic4\", \"Topic4\", \"Topic4\", \"Topic4\", \"Topic4\", \"Topic4\", \"Topic4\", \"Topic4\", \"Topic4\", \"Topic4\", \"Topic4\", \"Topic4\", \"Topic4\", \"Topic4\", \"Topic4\", \"Topic4\", \"Topic4\", \"Topic4\", \"Topic4\", \"Topic4\", \"Topic4\", \"Topic4\", \"Topic4\", \"Topic4\", \"Topic4\", \"Topic4\", \"Topic4\", \"Topic4\", \"Topic4\", \"Topic4\", \"Topic4\", \"Topic4\", \"Topic4\", \"Topic4\", \"Topic4\", \"Topic4\", \"Topic4\", \"Topic4\", \"Topic4\", \"Topic4\", \"Topic5\", \"Topic5\", \"Topic5\", \"Topic5\", \"Topic5\", \"Topic5\", \"Topic5\", \"Topic5\", \"Topic5\", \"Topic5\", \"Topic5\", \"Topic5\", \"Topic5\", \"Topic5\", \"Topic5\", \"Topic5\", \"Topic5\", \"Topic5\", \"Topic5\", \"Topic5\", \"Topic5\", \"Topic5\", \"Topic5\", \"Topic5\", \"Topic5\", \"Topic5\", \"Topic5\", \"Topic5\", \"Topic5\", \"Topic5\", \"Topic5\", \"Topic5\", \"Topic5\", \"Topic5\", \"Topic5\", \"Topic5\", \"Topic5\", \"Topic5\", \"Topic5\", \"Topic5\", \"Topic5\", \"Topic5\", \"Topic5\", \"Topic5\", \"Topic5\", \"Topic5\", \"Topic5\", \"Topic5\", \"Topic5\", \"Topic5\", \"Topic5\", \"Topic5\", \"Topic5\", \"Topic5\", \"Topic5\", \"Topic5\", \"Topic5\", \"Topic5\", \"Topic5\", \"Topic5\", \"Topic5\", \"Topic5\", \"Topic5\", \"Topic5\", \"Topic5\", \"Topic5\", \"Topic5\", \"Topic6\", \"Topic6\", \"Topic6\", \"Topic6\", \"Topic6\", \"Topic6\", \"Topic6\", \"Topic6\", \"Topic6\", \"Topic6\", \"Topic6\", \"Topic6\", \"Topic6\", \"Topic6\", \"Topic6\", \"Topic6\", \"Topic6\", \"Topic6\", \"Topic6\", \"Topic6\", \"Topic6\", \"Topic6\", \"Topic6\", \"Topic6\", \"Topic6\", \"Topic6\", \"Topic6\", \"Topic6\", \"Topic6\", \"Topic6\", \"Topic6\", \"Topic6\", \"Topic6\", \"Topic6\", \"Topic6\", \"Topic6\", \"Topic6\", \"Topic6\", \"Topic6\", \"Topic6\", \"Topic6\", \"Topic6\", \"Topic6\", \"Topic6\", \"Topic6\", \"Topic6\", \"Topic6\", \"Topic6\", \"Topic6\", \"Topic6\", \"Topic6\", \"Topic6\", \"Topic6\", \"Topic6\", \"Topic6\", \"Topic6\", \"Topic6\", \"Topic6\", \"Topic6\", \"Topic6\", \"Topic6\", \"Topic6\", \"Topic6\", \"Topic6\", \"Topic6\", \"Topic6\"], \"Freq\": [9459.0, 8243.0, 23658.0, 15737.0, 13166.0, 9277.0, 15953.0, 9402.0, 7606.0, 4397.0, 6805.0, 10471.0, 5464.0, 9176.0, 11506.0, 3916.0, 6745.0, 4821.0, 4190.0, 5596.0, 4734.0, 9920.0, 4709.0, 4722.0, 5884.0, 3206.0, 1972.0, 11984.0, 6390.0, 12446.0, 3916.556396484375, 1535.407470703125, 1413.26123046875, 1858.0694580078125, 652.2626342773438, 504.7843322753906, 489.499267578125, 429.0537414550781, 436.0909118652344, 404.2106018066406, 388.514404296875, 381.5642395019531, 345.3092041015625, 319.1729431152344, 297.7591552734375, 289.3398132324219, 286.82647705078125, 277.3948974609375, 273.92657470703125, 266.1881103515625, 258.72149658203125, 246.57669067382812, 419.2606201171875, 388.072265625, 2367.44140625, 223.6287841796875, 220.50872802734375, 207.6074981689453, 201.6876220703125, 197.2751922607422, 508.3673400878906, 581.815673828125, 926.4932861328125, 764.6719970703125, 1700.8946533203125, 1352.56005859375, 4808.53125, 831.2152099609375, 868.7498168945312, 2446.853515625, 849.8423461914062, 1209.3740234375, 447.9289855957031, 5043.70654296875, 988.2954711914062, 2497.86279296875, 1607.4796142578125, 667.5226440429688, 3315.736572265625, 4019.3984375, 1589.284423828125, 1601.58203125, 3216.612548828125, 1283.2049560546875, 2954.604248046875, 1099.784423828125, 1367.2000732421875, 3338.99658203125, 3227.411376953125, 1802.7384033203125, 2521.784912109375, 1625.008544921875, 2127.05615234375, 1636.813232421875, 1141.934814453125, 1283.4615478515625, 1208.31640625, 618.5286865234375, 444.8221435546875, 406.24700927734375, 405.6873779296875, 393.1076965332031, 377.8856506347656, 294.2505187988281, 257.7806701660156, 248.25637817382812, 242.8802947998047, 230.06884765625, 404.0323181152344, 226.72665405273438, 210.96484375, 209.29718017578125, 206.15689086914062, 199.23770141601562, 187.63760375976562, 175.7124786376953, 173.026123046875, 170.06198120117188, 161.37344360351562, 159.65756225585938, 147.85023498535156, 146.623291015625, 144.28196716308594, 142.9719696044922, 141.28439331054688, 140.09637451171875, 137.4340362548828, 193.3673858642578, 214.58863830566406, 3916.820556640625, 840.4775390625, 409.3880920410156, 1469.667724609375, 393.5069274902344, 8161.58740234375, 1174.600341796875, 300.8918151855469, 1965.419677734375, 1013.7428588867188, 569.2354736328125, 4816.197265625, 6571.47900390625, 647.2681274414062, 4887.7392578125, 2245.820556640625, 3047.49267578125, 2740.14453125, 1267.6915283203125, 7468.30126953125, 2819.510009765625, 4363.33740234375, 1466.208740234375, 2675.917236328125, 2040.941162109375, 1831.4168701171875, 1696.4161376953125, 1268.26513671875, 1505.995849609375, 1018.1060180664062, 970.759765625, 1351.9520263671875, 946.7042236328125, 1266.43505859375, 1313.587890625, 1307.0401611328125, 967.081298828125, 1224.5472412109375, 706.9134521484375, 388.7303466796875, 355.3731384277344, 323.70135498046875, 319.47515869140625, 257.2655334472656, 297.4066162109375, 202.70726013183594, 197.28390502929688, 172.95860290527344, 168.33583068847656, 161.81961059570312, 160.6519317626953, 150.66493225097656, 145.08499145507812, 143.9591064453125, 143.80296325683594, 138.47340393066406, 139.3751983642578, 136.33804321289062, 135.08920288085938, 133.67092895507812, 130.2764129638672, 120.95208740234375, 118.40348052978516, 118.29889678955078, 114.40737915039062, 107.96859741210938, 107.48841857910156, 864.1356201171875, 307.7250671386719, 440.378662109375, 196.80018615722656, 401.3812561035156, 1265.9814453125, 294.6184387207031, 5468.58837890625, 1131.4866943359375, 8670.9462890625, 3978.906005859375, 880.8382568359375, 1022.1981811523438, 2016.72607421875, 1031.0208740234375, 308.79901123046875, 1071.759521484375, 1717.96875, 1390.7001953125, 749.534423828125, 1583.7752685546875, 383.5261535644531, 3430.70703125, 1115.0977783203125, 1649.1650390625, 5194.1279296875, 4398.6416015625, 1386.779052734375, 1392.898193359375, 3367.892333984375, 1310.5079345703125, 3201.341796875, 875.1470947265625, 1162.306884765625, 1544.860595703125, 2696.09228515625, 1268.403564453125, 1401.1385498046875, 1888.795166015625, 1741.7607421875, 1406.7843017578125, 1734.0399169921875, 1545.6099853515625, 1126.909423828125, 1835.0079345703125, 685.1082153320312, 517.4847412109375, 462.8926086425781, 399.6717224121094, 395.3276672363281, 368.49334716796875, 454.03125, 302.2943115234375, 296.5859069824219, 293.0007019042969, 286.9959411621094, 276.0821838378906, 268.8430480957031, 259.9219970703125, 257.4090881347656, 238.0474090576172, 234.95310974121094, 226.79571533203125, 226.72164916992188, 205.8021697998047, 203.63656616210938, 190.43899536132812, 187.37803649902344, 186.83627319335938, 181.51419067382812, 180.95138549804688, 179.56333923339844, 176.75439453125, 173.33859252929688, 503.75347900390625, 7400.1552734375, 485.1454162597656, 274.6240234375, 3647.196044921875, 969.1868896484375, 552.6784057617188, 756.6038208007812, 7222.2890625, 658.2720336914062, 1709.614990234375, 540.0980224609375, 974.5670166015625, 801.885009765625, 1766.095947265625, 1821.4171142578125, 559.09716796875, 1548.2449951171875, 1729.689697265625, 2311.44921875, 1730.38720703125, 1398.7491455078125, 3711.486328125, 1258.295166015625, 1978.2060546875, 969.0189208984375, 729.1124267578125, 3025.35693359375, 1433.59326171875, 1016.6316528320312, 1847.54443359375, 1444.927490234375, 1921.2191162109375, 1343.704833984375, 1314.6097412109375, 1688.863037109375, 1331.5267333984375, 1162.6680908203125, 2111.93505859375, 1333.9541015625, 1282.04443359375, 1574.2337646484375, 1580.15478515625, 1201.390380859375, 637.5881958007812, 428.185546875, 362.82989501953125, 327.6831970214844, 312.19244384765625, 360.6499938964844, 180.35337829589844, 176.30780029296875, 175.97483825683594, 163.54991149902344, 162.96595764160156, 162.5997772216797, 162.0308074951172, 158.80255126953125, 155.81942749023438, 155.59579467773438, 153.988525390625, 152.14862060546875, 148.3243408203125, 144.261474609375, 139.09503173828125, 135.06227111816406, 133.09112548828125, 130.01344299316406, 127.6190414428711, 323.2463684082031, 115.99325561523438, 112.25401306152344, 112.09955596923828, 110.52029418945312, 228.5635986328125, 433.0708312988281, 1764.6134033203125, 323.0089416503906, 2471.495849609375, 3207.533447265625, 506.983642578125, 332.0419921875, 3916.000732421875, 1055.1234130859375, 991.5127563476562, 1561.764404296875, 2637.778076171875, 9299.5078125, 2110.818603515625, 1287.8341064453125, 2441.381591796875, 6137.6484375, 1303.2843017578125, 1093.5875244140625, 3876.078857421875, 764.82177734375, 1675.925537109375, 1207.9949951171875, 2450.274169921875, 3709.22314453125, 1334.114501953125, 1641.671142578125, 1028.0848388671875, 757.209228515625, 1942.0472412109375, 1823.4241943359375, 1217.123779296875, 1542.4659423828125, 1093.964111328125, 1345.634521484375, 1344.3995361328125, 1972.2911376953125, 1009.9999389648438, 964.9277954101562, 455.8057861328125, 442.2257995605469, 346.8258972167969, 339.8466796875, 321.3184509277344, 251.12353515625, 245.85057067871094, 240.420654296875, 225.56948852539062, 215.7786102294922, 197.92721557617188, 193.39540100097656, 185.54525756835938, 174.50498962402344, 173.34498596191406, 169.7664794921875, 169.08628845214844, 167.355712890625, 161.4358673095703, 155.80413818359375, 153.59046936035156, 150.21865844726562, 142.78433227539062, 130.5054931640625, 128.20716857910156, 127.8195571899414, 126.92924499511719, 419.9726257324219, 242.58265686035156, 220.2085723876953, 174.81089782714844, 3303.067626953125, 607.3742065429688, 534.609130859375, 6033.158203125, 519.0814819335938, 305.85400390625, 3007.3271484375, 676.8528442382812, 447.0713195800781, 650.9295654296875, 1220.7943115234375, 2985.7265625, 543.50830078125, 3725.294677734375, 2470.134033203125, 1220.1451416015625, 569.2155151367188, 1762.9769287109375, 837.575439453125, 2284.303466796875, 2009.6302490234375, 2744.326171875, 1168.2366943359375, 1008.7852172851562, 796.4873046875, 692.5185546875, 703.24609375, 702.6735229492188, 713.1096801757812, 664.2933959960938, 631.4605712890625, 544.4994506835938], \"Term\": [\"book\", \"hour\", \"time\", \"good\", \"seat\", \"delay\", \"fly\", \"check\", \"pay\", \"easy\", \"friendly\", \"service\", \"use\", \"airport\", \"airline\", \"bag\", \"price\", \"nice\", \"late\", \"cheap\", \"always\", \"board\", \"arrive\", \"crew\", \"great\", \"land\", \"online\", \"ryanair\", \"luggage\", \"get\", \"bag\", \"hold\", \"carry\", \"allow\", \"print_board\", \"weight\", \"cabin_bag\", \"handluggage\", \"stair\", \"schiphol\", \"backpack\", \"per_person\", \"handbag\", \"piece\", \"reach\", \"bind\", \"empty\", \"agent\", \"vacation\", \"store\", \"special\", \"woman\", \"separate\", \"tag\", \"hand_luggage\", \"put_hold\", \"colour\", \"properly\", \"bottle_water\", \"overhead\", \"online_check-in\", \"baby\", \"size\", \"policy\", \"queue\", \"put\", \"luggage\", \"rude\", \"suitcase\", \"people\", \"pas\", \"euro\", \"lady\", \"check\", \"case\", \"passenger\", \"baggage\", \"walk\", \"take\", \"board\", \"cabin\", \"gate\", \"plane\", \"ask\", \"one\", \"sit\", \"small\", \"seat\", \"get\", \"could\", \"n't\", \"wait\", \"pay\", \"make\", \"line\", \"first\", \"ryanair\", \"quality\", \"would_recommend\", \"must_say\", \"menu\", \"low-cost_airline\", \"positive\", \"competitor\", \"on-board\", \"pet\", \"vueling\", \"year_ago\", \"pleasantly_surprise\", \"roomy\", \"affordable\", \"card\", \"new_plan\", \"brand_new\", \"low-cost\", \"listen\", \"plan_clean\", \"tel_aviv\", \"pocket\", \"perfectly\", \"convenience\", \"class\", \"magazine\", \"nicely\", \"heraklion\", \"spacious\", \"nervous_fly\", \"frequent\", \"european\", \"always\", \"often\", \"punctual\", \"many\", \"improve\", \"fly\", \"best\", \"example\", \"company\", \"year\", \"europe\", \"service\", \"good\", \"kind\", \"airline\", \"experience\", \"price\", \"great\", \"budget_airline\", \"time\", \"travel\", \"ryanair\", \"low_cost\", \"friendly\", \"use\", \"crew\", \"really\", \"like\", \"first\", \"never\", \"cabin_crew\", \"nice\", \"offer\", \"would\", \"one\", \"n't\", \"comfortable\", \"dublin\", \"basic\", \"extra_leg\", \"tall\", \"nothing_complain\", \"am\", \"common\", \"expect_much\", \"horribly\", \"airliner\", \"eur\", \"narrow\", \"emergency_exit\", \"traffic\", \"recline\", \"ridiculously\", \"final_destination\", \"carry-on_luggage\", \"bad_press\", \"fleet\", \"nowadays\", \"seat_pitch\", \"prepay\", \"nothing_special\", \"satisfaction\", \"rebooked\", \"luxury\", \"tin\", \"mail\", \"squeeze\", \"uncomfortable\", \"tight\", \"meal\", \"wear\", \"worth\", \"legroom\", \"knee\", \"pay\", \"expensive\", \"seat\", \"cheap\", \"frill\", \"room\", \"extra\", \"leg_room\", \"leg_space\", \"buy\", \"expect\", \"cost\", \"budget\", \"want\", \"yes\", \"price\", \"pay_extra\", \"food\", \"get\", \"n't\", \"ticket\", \"everything\", \"airline\", \"low_cost\", \"ryanair\", \"space\", \"much\", \"really\", \"good\", \"like\", \"even\", \"book\", \"service\", \"would\", \"fly\", \"time\", \"need\", \"cancel\", \"strike\", \"refund\", \"hotel\", \"internet\", \"explanation\", \"taxi\", \"explain\", \"affect\", \"accommodation\", \"paris_orly\", \"contact\", \"message\", \"compensation\", \"brussels\", \"download\", \"bagage\", \"hr\", \"site\", \"screen\", \"upset\", \"web\", \"next_day\", \"dog\", \"engine\", \"cup_water\", \"cancellation\", \"event\", \"beer\", \"bcn\", \"claim\", \"hour\", \"finally\", \"air_traffic\", \"late\", \"inform\", \"night\", \"email\", \"delay\", \"two_hour\", \"due\", \"english\", \"information\", \"min\", \"minute\", \"day\", \"miss\", \"departure\", \"tell\", \"wait\", \"paris\", \"change\", \"airport\", \"amsterdam\", \"arrive\", \"another\", \"call\", \"get\", \"go\", \"last\", \"one\", \"even\", \"plane\", \"back\", \"leave\", \"take\", \"return\", \"give\", \"time\", \"would\", \"could\", \"n't\", \"fly\", \"ryanair\", \"satisfy\", \"general\", \"minute_early\", \"fair_price\", \"noisy\", \"smoothly\", \"facebook\", \"accident\", \"rate\", \"unpleasant\", \"pleasantly\", \"station\", \"majority\", \"accessible\", \"pisa\", \"excellent_value\", \"need_assistance\", \"worker\", \"perk\", \"slick\", \"client\", \"uneventful\", \"treat_like\", \"ongoing\", \"politely\", \"arrive_early\", \"lounge\", \"tray\", \"slight_delay\", \"april\", \"inbound\", \"bonus\", \"smooth\", \"go_smoothly\", \"land\", \"nice\", \"everything_go\", \"cold\", \"friendly\", \"klm\", \"quick\", \"pleasant\", \"crew\", \"time\", \"leave\", \"efficient\", \"arrive\", \"good\", \"cabin_crew\", \"excellent\", \"board\", \"fast\", \"comfortable\", \"helpful\", \"great\", \"service\", \"clean\", \"return\", \"short\", \"schedule\", \"plane\", \"airport\", \"problem\", \"take\", \"easy\", \"delay\", \"check\", \"online\", \"munich\", \"simple\", \"proper\", \"huge\", \"charter\", \"frequently\", \"language\", \"little_bite\", \"connect\", \"location\", \"tenerife\", \"departure_arrival\", \"truly\", \"food_beverage\", \"highly_recommend\", \"trouble_free\", \"chania\", \"complicate\", \"on-line\", \"sevilla\", \"helpfull\", \"careful\", \"content\", \"different_row\", \"spotless\", \"impression\", \"check-\", \"ton\", \"valencia\", \"porto\", \"march\", \"well_advance\", \"madrid\", \"easy\", \"app\", \"print\", \"book\", \"city\", \"visit\", \"use\", \"board_pas\", \"via\", \"process\", \"check-in\", \"check\", \"check_online\", \"fly\", \"airport\", \"trip\", \"holiday\", \"travel\", \"line\", \"airline\", \"ryanair\", \"time\", \"first\", \"return\", \"find\", \"ticket\", \"paris\", \"go\", \"cheap\", \"experience\", \"n't\", \"need\"], \"Total\": [9459.0, 8243.0, 23658.0, 15737.0, 13166.0, 9277.0, 15953.0, 9402.0, 7606.0, 4397.0, 6805.0, 10471.0, 5464.0, 9176.0, 11506.0, 3916.0, 6745.0, 4821.0, 4190.0, 5596.0, 4734.0, 9920.0, 4709.0, 4722.0, 5884.0, 3206.0, 1972.0, 11984.0, 6390.0, 12446.0, 3916.621337890625, 1535.466064453125, 1413.3232421875, 1858.1820068359375, 652.323974609375, 504.8433532714844, 489.5582580566406, 429.11248779296875, 436.15081787109375, 404.26934814453125, 388.5731506347656, 381.6230163574219, 345.3679504394531, 319.2317810058594, 297.8179016113281, 289.3985595703125, 286.8852233886719, 277.4536437988281, 273.9853210449219, 266.24774169921875, 258.7828674316406, 246.63543701171875, 419.3618469238281, 388.1664733886719, 2368.05322265625, 223.68751525878906, 220.5674591064453, 207.66622924804688, 201.74635314941406, 197.33392333984375, 510.0245361328125, 592.9935302734375, 954.08837890625, 804.1092529296875, 1952.0391845703125, 1558.173828125, 6390.97802734375, 959.4102783203125, 1038.078125, 3504.441650390625, 1032.9818115234375, 1605.556884765625, 487.76934814453125, 9402.748046875, 1286.026611328125, 4062.998046875, 2607.63232421875, 808.8663940429688, 7308.98876953125, 9920.994140625, 2707.19140625, 2745.1171875, 7921.09619140625, 2096.63818359375, 7205.408203125, 1766.092041015625, 2586.810546875, 13166.541015625, 12446.8349609375, 4711.0537109375, 10482.8544921875, 4092.505615234375, 7606.70849609375, 4501.099609375, 2030.5556640625, 5073.13916015625, 11984.142578125, 618.5894775390625, 444.8829345703125, 406.30780029296875, 405.7481689453125, 393.1684875488281, 377.9464416503906, 294.3113098144531, 257.841552734375, 248.31715393066406, 242.94107055664062, 230.12962341308594, 404.1396484375, 226.7874298095703, 211.02561950683594, 209.3579559326172, 206.21792602539062, 199.29847717285156, 187.69839477539062, 175.77325439453125, 173.08689880371094, 170.1227569580078, 161.43421936035156, 159.7183380126953, 147.9110107421875, 146.68406677246094, 144.34274291992188, 143.03274536132812, 141.3451690673828, 140.1571502685547, 137.49549865722656, 194.35777282714844, 216.2456817626953, 4734.56884765625, 980.2838745117188, 464.2122802734375, 2041.606689453125, 454.3348693847656, 15953.73828125, 1735.0806884765625, 340.6993408203125, 3394.735595703125, 1516.337158203125, 745.2070922851562, 10471.935546875, 15737.037109375, 881.5859985351562, 11506.8203125, 4299.95166015625, 6745.71435546875, 5884.58056640625, 2200.19189453125, 23658.79296875, 6495.01513671875, 11984.142578125, 2778.5029296875, 6805.63720703125, 5464.203125, 4722.0654296875, 4439.50146484375, 3446.797607421875, 5073.13916015625, 2430.867431640625, 2320.951171875, 4821.48828125, 2499.294677734375, 5364.646484375, 7205.408203125, 10482.8544921875, 3439.42626953125, 1224.60791015625, 706.9744262695312, 388.7950134277344, 355.43389892578125, 323.7621154785156, 319.5359191894531, 257.3262939453125, 297.48291015625, 202.76800537109375, 197.3446502685547, 173.01934814453125, 168.39657592773438, 161.88035583496094, 160.71267700195312, 150.72567749023438, 145.14573669433594, 144.0198516845703, 143.86370849609375, 138.53414916992188, 139.43641662597656, 136.39878845214844, 135.1499481201172, 133.73167419433594, 130.337158203125, 121.01283264160156, 118.46422576904297, 118.3596420288086, 114.46879577636719, 108.02934265136719, 107.54916381835938, 872.3095703125, 308.37603759765625, 448.9513854980469, 198.0907745361328, 414.2857360839844, 1459.346923828125, 312.01104736328125, 7606.70849609375, 1380.9482421875, 13166.541015625, 5596.22119140625, 1074.718017578125, 1306.74267578125, 2893.019775390625, 1371.763427734375, 343.3017883300781, 1458.62939453125, 2609.61962890625, 2062.66015625, 1000.3162231445312, 2545.151123046875, 448.2205505371094, 6745.71435546875, 1680.688720703125, 2763.86328125, 12446.8349609375, 10482.8544921875, 2504.56201171875, 2954.862060546875, 11506.8203125, 2778.5029296875, 11984.142578125, 1523.3192138671875, 2582.794677734375, 4439.50146484375, 15737.037109375, 3446.797607421875, 4390.71142578125, 9459.58984375, 10471.935546875, 5364.646484375, 15953.73828125, 23658.79296875, 2830.91845703125, 1835.0662841796875, 685.1665649414062, 517.5430908203125, 462.9509582519531, 399.7300720214844, 395.38604736328125, 368.5517272949219, 454.1091613769531, 302.3526611328125, 296.6442565917969, 293.0590515136719, 287.0543212890625, 276.1405334472656, 268.9013977050781, 259.9803466796875, 257.4674377441406, 238.1057586669922, 235.01336669921875, 226.85406494140625, 226.77999877929688, 205.8605194091797, 203.69491577148438, 190.49734497070312, 187.43638610839844, 186.89462280273438, 181.57254028320312, 181.00973510742188, 179.62168884277344, 176.812744140625, 173.39694213867188, 508.50213623046875, 8243.716796875, 497.7960205078125, 277.7102966308594, 4190.09521484375, 1047.258056640625, 582.6213989257812, 811.1271362304688, 9277.427734375, 713.102783203125, 2105.72265625, 604.7196655273438, 1278.58544921875, 1028.03857421875, 2745.010498046875, 2885.82177734375, 672.7581787109375, 2422.022216796875, 2794.256591796875, 4092.505615234375, 3023.22509765625, 2388.056640625, 9176.732421875, 2289.158203125, 4709.640625, 1653.09423828125, 1062.1837158203125, 12446.8349609375, 4250.28759765625, 2167.584716796875, 7205.408203125, 4390.71142578125, 7921.09619140625, 3924.5546875, 3823.83740234375, 7308.98876953125, 4609.7353515625, 3395.305419921875, 23658.79296875, 5364.646484375, 4711.0537109375, 10482.8544921875, 15953.73828125, 11984.142578125, 637.6466064453125, 428.2439880371094, 362.8883361816406, 327.74163818359375, 312.2508850097656, 360.7221984863281, 180.41180419921875, 176.36622619628906, 176.03326416015625, 163.60833740234375, 163.02439880371094, 162.658203125, 162.0892333984375, 158.86097717285156, 155.8778533935547, 155.6542205810547, 154.0469512939453, 152.20704650878906, 148.3827667236328, 144.3199005126953, 139.15345764160156, 135.12069702148438, 133.14955139160156, 130.07186889648438, 127.67745971679688, 323.4022521972656, 116.05167388916016, 112.31243133544922, 112.15805053710938, 110.5787124633789, 229.03573608398438, 444.46453857421875, 1922.990478515625, 336.81439208984375, 3206.287109375, 4821.48828125, 608.9093627929688, 378.46380615234375, 6805.63720703125, 1486.4039306640625, 1386.9688720703125, 2431.59521484375, 4722.0654296875, 23658.79296875, 3823.83740234375, 2088.849853515625, 4709.640625, 15737.037109375, 2320.951171875, 1854.8453369140625, 9920.994140625, 1195.3603515625, 3439.42626953125, 2225.2353515625, 5884.58056640625, 10471.935546875, 2571.401611328125, 4609.7353515625, 2225.014404296875, 1368.06689453125, 7921.09619140625, 9176.732421875, 4035.04150390625, 7308.98876953125, 4397.53955078125, 9277.427734375, 9402.748046875, 1972.36376953125, 1010.0581665039062, 964.986572265625, 455.8640441894531, 442.2840576171875, 346.8841552734375, 339.9049377441406, 321.376708984375, 251.18177795410156, 245.9088134765625, 240.47891235351562, 225.6277313232422, 215.83685302734375, 197.98545837402344, 193.45364379882812, 185.60350036621094, 174.563232421875, 173.40322875976562, 169.82472229003906, 169.14453125, 167.41395568847656, 161.49411010742188, 155.8623809814453, 153.64871215820312, 150.2769012451172, 142.8425750732422, 130.56373596191406, 128.26541137695312, 127.87779998779297, 126.98748779296875, 421.7015380859375, 242.87339782714844, 220.31564331054688, 175.64230346679688, 4397.53955078125, 699.09521484375, 619.9717407226562, 9459.58984375, 618.2296142578125, 337.0028381347656, 5464.203125, 937.8163452148438, 605.2890625, 1053.8187255859375, 2662.787109375, 9402.748046875, 876.188232421875, 15953.73828125, 9176.732421875, 3157.48828125, 986.2340087890625, 6495.01513671875, 2030.5556640625, 11506.8203125, 11984.142578125, 23658.79296875, 5073.13916015625, 4609.7353515625, 3083.776123046875, 2504.56201171875, 3023.22509765625, 4250.28759765625, 5596.22119140625, 4299.95166015625, 10482.8544921875, 2830.91845703125], \"loglift\": [30.0, 29.0, 28.0, 27.0, 26.0, 25.0, 24.0, 23.0, 22.0, 21.0, 20.0, 19.0, 18.0, 17.0, 16.0, 15.0, 14.0, 13.0, 12.0, 11.0, 10.0, 9.0, 8.0, 7.0, 6.0, 5.0, 4.0, 3.0, 2.0, 1.0, 1.4952000379562378, 1.4952000379562378, 1.4952000379562378, 1.4951000213623047, 1.4951000213623047, 1.4951000213623047, 1.4951000213623047, 1.4951000213623047, 1.4951000213623047, 1.4951000213623047, 1.4950000047683716, 1.4950000047683716, 1.4950000047683716, 1.4950000047683716, 1.4950000047683716, 1.4950000047683716, 1.4950000047683716, 1.4950000047683716, 1.4950000047683716, 1.4950000047683716, 1.4950000047683716, 1.4950000047683716, 1.4950000047683716, 1.4950000047683716, 1.4948999881744385, 1.4948999881744385, 1.4948999881744385, 1.4948999881744385, 1.4948999881744385, 1.4948999881744385, 1.4918999671936035, 1.476199984550476, 1.4658000469207764, 1.4449000358581543, 1.3574999570846558, 1.353700041770935, 1.2107000350952148, 1.3517999649047852, 1.3171000480651855, 1.1360000371932983, 1.2999999523162842, 1.2117999792099, 1.409999966621399, 0.8723000288009644, 1.2318999767303467, 1.0087000131607056, 1.0113999843597412, 1.3030999898910522, 0.704800009727478, 0.59170001745224, 0.9625999927520752, 0.9563999772071838, 0.593999981880188, 1.0041999816894531, 0.6036999821662903, 1.0214999914169312, 0.8575000166893005, 0.12319999933242798, 0.1454000025987625, 0.534600019454956, 0.07039999961853027, 0.5716000199317932, 0.22089999914169312, 0.483599990606308, 0.9196000099182129, 0.12080000340938568, -0.7991999983787537, 1.6811000108718872, 1.680999994277954, 1.680999994277954, 1.680999994277954, 1.680999994277954, 1.680999994277954, 1.680999994277954, 1.680899977684021, 1.680899977684021, 1.680899977684021, 1.680899977684021, 1.680899977684021, 1.680899977684021, 1.680899977684021, 1.680899977684021, 1.680899977684021, 1.680899977684021, 1.680799961090088, 1.680799961090088, 1.680799961090088, 1.680799961090088, 1.680799961090088, 1.680799961090088, 1.6806999444961548, 1.6806999444961548, 1.6806999444961548, 1.6806999444961548, 1.6806999444961548, 1.6806999444961548, 1.6806999444961548, 1.6759999990463257, 1.6734999418258667, 1.4915000200271606, 1.5273000001907349, 1.5555000305175781, 1.3524999618530273, 1.5374000072479248, 1.0109000205993652, 1.2910000085830688, 1.5569000244140625, 1.134600043296814, 1.278499960899353, 1.4118000268936157, 0.9043999910354614, 0.8079000115394592, 1.3722000122070312, 0.8248999714851379, 1.031599998474121, 0.8866000175476074, 0.9168000221252441, 1.1297999620437622, 0.5281000137329102, 0.8467000126838684, 0.670799970626831, 1.0419000387191772, 0.7476999759674072, 0.6963000297546387, 0.734000027179718, 0.7190999984741211, 0.6814000010490417, 0.4666999876499176, 0.8108999729156494, 0.809499979019165, 0.40959998965263367, 0.7103999853134155, 0.23749999701976776, -0.020899999886751175, -0.4007999897003174, 0.4124000072479248, 1.7266000509262085, 1.7265000343322754, 1.7264000177383423, 1.7264000177383423, 1.7264000177383423, 1.7264000177383423, 1.7264000177383423, 1.7264000177383423, 1.7263000011444092, 1.7263000011444092, 1.7263000011444092, 1.726199984550476, 1.726199984550476, 1.726199984550476, 1.726199984550476, 1.726199984550476, 1.726199984550476, 1.726199984550476, 1.726199984550476, 1.726199984550476, 1.726199984550476, 1.726199984550476, 1.726199984550476, 1.726099967956543, 1.726099967956543, 1.726099967956543, 1.726099967956543, 1.726099967956543, 1.7259999513626099, 1.7259999513626099, 1.7172000408172607, 1.7244999408721924, 1.7072999477386475, 1.7201000452041626, 1.6950000524520874, 1.5844999551773071, 1.6692999601364136, 1.3966000080108643, 1.527400016784668, 1.308899998664856, 1.3854999542236328, 1.5276999473571777, 1.4809999465942383, 1.3658000230789185, 1.441100001335144, 1.6207000017166138, 1.4184000492095947, 1.308500051498413, 1.3323999643325806, 1.437999963760376, 1.2522000074386597, 1.5707000494003296, 1.0505000352859497, 1.3163000345230103, 1.2101999521255493, 0.8526999950408936, 0.8582000136375427, 1.1354999542236328, 0.9745000004768372, 0.49799999594688416, 0.9750999808311462, 0.4065999984741211, 1.1723999977111816, 0.9280999898910522, 0.6710000038146973, -0.03759999945759773, 0.7268999814987183, 0.5843999981880188, 0.11550000309944153, -0.06719999760389328, 0.3880999982357025, -0.4925999939441681, -1.0017000436782837, 0.8054999709129333, 1.767300009727478, 1.767300009727478, 1.767199993133545, 1.767199993133545, 1.767199993133545, 1.767199993133545, 1.767199993133545, 1.767199993133545, 1.767199993133545, 1.767199993133545, 1.767199993133545, 1.7670999765396118, 1.7670999765396118, 1.7670999765396118, 1.7670999765396118, 1.7670999765396118, 1.7670999765396118, 1.7670999765396118, 1.7670999765396118, 1.7670999765396118, 1.7670999765396118, 1.7670999765396118, 1.7669999599456787, 1.7669999599456787, 1.7669999599456787, 1.7669999599456787, 1.7669999599456787, 1.7669999599456787, 1.7669999599456787, 1.7669999599456787, 1.7580000162124634, 1.6593999862670898, 1.7416000366210938, 1.7561999559402466, 1.628600001335144, 1.6899000406265259, 1.7145999670028687, 1.6978000402450562, 1.5168999433517456, 1.6872999668121338, 1.559000015258789, 1.6542999744415283, 1.4958000183105469, 1.5189000368118286, 1.326300024986267, 1.3071999549865723, 1.5822999477386475, 1.3199000358581543, 1.2877000570297241, 1.1960999965667725, 1.2094000577926636, 1.2323999404907227, 0.8621000051498413, 1.1689000129699707, 0.8999000191688538, 1.233199954032898, 1.3911000490188599, 0.3528999984264374, 0.6804999709129333, 1.010200023651123, 0.40639999508857727, 0.6559000015258789, 0.3508000075817108, 0.6955000162124634, 0.6995999813079834, 0.30230000615119934, 0.5254999995231628, 0.6956999897956848, -0.6488000154495239, 0.3756999969482422, 0.4659000039100647, -0.12860000133514404, -0.5447999835014343, -0.532800018787384, 1.9637999534606934, 1.9637000560760498, 1.9637000560760498, 1.9637000560760498, 1.9637000560760498, 1.9637000560760498, 1.9635000228881836, 1.9635000228881836, 1.9635000228881836, 1.9635000228881836, 1.9635000228881836, 1.9635000228881836, 1.9635000228881836, 1.9635000228881836, 1.9635000228881836, 1.9635000228881836, 1.9635000228881836, 1.9635000228881836, 1.9635000228881836, 1.9635000228881836, 1.9634000062942505, 1.9634000062942505, 1.9634000062942505, 1.9634000062942505, 1.9634000062942505, 1.9634000062942505, 1.9634000062942505, 1.9632999897003174, 1.9632999897003174, 1.9632999897003174, 1.9617999792099, 1.9378999471664429, 1.8779000043869019, 1.9220000505447388, 1.7036000490188599, 1.5563000440597534, 1.7806999683380127, 1.8329999446868896, 1.4112000465393066, 1.6211999654769897, 1.6282000541687012, 1.5211000442504883, 1.381600022315979, 1.0300999879837036, 1.3696999549865723, 1.4802000522613525, 1.3068000078201294, 1.0223000049591064, 1.3868000507354736, 1.4355000257492065, 1.0240000486373901, 1.517300009727478, 1.2448999881744385, 1.3530000448226929, 1.0877000093460083, 0.9259999990463257, 1.3077000379562378, 0.9314000010490417, 1.1917999982833862, 1.3723000288009644, 0.5580999851226807, 0.34790000319480896, 0.7652999758720398, 0.4081000089645386, 0.5726000070571899, 0.03310000151395798, 0.018799999728798866, 2.296099901199341, 2.2960000038146973, 2.2960000038146973, 2.2960000038146973, 2.2960000038146973, 2.2959001064300537, 2.2959001064300537, 2.2959001064300537, 2.2959001064300537, 2.2959001064300537, 2.2959001064300537, 2.295799970626831, 2.295799970626831, 2.295799970626831, 2.295799970626831, 2.295799970626831, 2.295799970626831, 2.295799970626831, 2.295799970626831, 2.295799970626831, 2.295799970626831, 2.2957000732421875, 2.2957000732421875, 2.2957000732421875, 2.2957000732421875, 2.2957000732421875, 2.2957000732421875, 2.295599937438965, 2.295599937438965, 2.295599937438965, 2.2920000553131104, 2.2948999404907227, 2.295599937438965, 2.2913999557495117, 2.0099000930786133, 2.1554999351501465, 2.1480000019073486, 1.8463000059127808, 2.121299982070923, 2.1991000175476074, 1.6988999843597412, 1.9700000286102295, 1.9931000471115112, 1.8142999410629272, 1.5161999464035034, 1.148900032043457, 1.818600058555603, 0.8416000008583069, 0.9836999773979187, 1.3452999591827393, 1.746500015258789, 0.9921000003814697, 1.4105000495910645, 0.6791999936103821, 0.5105000138282776, 0.14190000295639038, 0.8276000022888184, 0.7767000198364258, 0.9423999786376953, 1.010599970817566, 0.8377000093460083, 0.49630001187324524, 0.23589999973773956, 0.4284999966621399, -0.5134000182151794, 0.647599995136261], \"logprob\": [30.0, 29.0, 28.0, 27.0, 26.0, 25.0, 24.0, 23.0, 22.0, 21.0, 20.0, 19.0, 18.0, 17.0, 16.0, 15.0, 14.0, 13.0, 12.0, 11.0, 10.0, 9.0, 8.0, 7.0, 6.0, 5.0, 4.0, 3.0, 2.0, 1.0, -4.115300178527832, -5.051799774169922, -5.134699821472168, -4.861000061035156, -5.907899856567383, -6.1641998291015625, -6.194900035858154, -6.326700210571289, -6.310500144958496, -6.38640022277832, -6.426000118255615, -6.443999767303467, -6.543900012969971, -6.622600078582764, -6.691999912261963, -6.720699787139893, -6.729400157928467, -6.762899875640869, -6.775400161743164, -6.804100036621094, -6.832600116729736, -6.8805999755859375, -6.349800109863281, -6.42710018157959, -4.61870002746582, -6.978300094604492, -6.992400169372559, -7.052700042724609, -7.081600189208984, -7.103700160980225, -6.157100200653076, -6.022200107574463, -5.5569000244140625, -5.748899936676025, -4.949399948120117, -5.178599834442139, -3.9102001190185547, -5.66540002822876, -5.621300220489502, -4.585700035095215, -5.6433000564575195, -5.29040002822876, -6.283699989318848, -3.8624000549316406, -5.492300033569336, -4.565100193023682, -5.005899906158447, -5.884699821472168, -4.281899929046631, -4.089399814605713, -5.017300128936768, -5.0096001625061035, -4.31220006942749, -5.231200218200684, -4.397200107574463, -5.38539981842041, -5.167799949645996, -4.274899959564209, -4.308899879455566, -4.891200065612793, -4.555600166320801, -4.994999885559082, -4.725800037384033, -4.987800121307373, -5.347799777984619, -5.230999946594238, -5.291299819946289, -5.775000095367432, -6.104700088500977, -6.195400238037109, -6.196800231933594, -6.228300094604492, -6.2677998542785645, -6.517899990081787, -6.650199890136719, -6.687900066375732, -6.709799766540527, -6.763999938964844, -6.200900077819824, -6.778600215911865, -6.8506999015808105, -6.85860013961792, -6.873700141906738, -6.907800197601318, -6.967800140380859, -7.0335001945495605, -7.048900127410889, -7.066199779510498, -7.118599891662598, -7.129300117492676, -7.206099987030029, -7.2144999504089355, -7.230599880218506, -7.239699840545654, -7.2515997886657715, -7.260000228881836, -7.279200077056885, -6.93779993057251, -6.833600044250488, -3.92930006980896, -5.468400001525879, -6.187699794769287, -4.909599781036377, -6.227200031280518, -3.195199966430664, -5.133699893951416, -6.49560022354126, -4.618899822235107, -5.280900001525879, -5.858099937438965, -3.722599983215332, -3.411900043487549, -5.729599952697754, -3.707900047302246, -4.485499858856201, -4.180300235748291, -4.286600112915039, -5.057400226593018, -3.283900022506714, -4.257999897003174, -3.8213999271392822, -4.911900043487549, -4.310299873352051, -4.581200122833252, -4.689499855041504, -4.76609992980957, -5.0569000244140625, -4.8850998878479, -5.276599884033203, -5.3242998123168945, -4.993000030517578, -5.349400043487549, -5.0584001541137695, -5.0218000411987305, -5.026800155639648, -5.328100204467773, -5.046599864959717, -5.5960001945495605, -6.193999767303467, -6.283699989318848, -6.377099990844727, -6.390200138092041, -6.606800079345703, -6.4618000984191895, -6.845099925994873, -6.872200012207031, -7.003799915313721, -7.030900001525879, -7.070400238037109, -7.077700138092041, -7.1417999267578125, -7.179599761962891, -7.187399864196777, -7.188399791717529, -7.226200103759766, -7.219699859619141, -7.241799831390381, -7.250999927520752, -7.261499881744385, -7.287199974060059, -7.361499786376953, -7.382800102233887, -7.383699893951416, -7.417099952697754, -7.475100040435791, -7.479499816894531, -5.395199775695801, -6.427700042724609, -6.069300174713135, -6.87470006942749, -6.1620001792907715, -5.013299942016602, -6.471199989318848, -3.550100088119507, -5.1255998611450195, -3.089200019836426, -3.8680999279022217, -5.375999927520752, -5.227200031280518, -4.547699928283691, -5.218599796295166, -6.424200057983398, -5.179800033569336, -4.708000183105469, -4.919300079345703, -5.537399768829346, -4.789299964904785, -6.207499980926514, -4.01639986038208, -5.140200138092041, -4.748899936676025, -3.601599931716919, -3.7678000926971436, -4.9222002029418945, -4.917799949645996, -4.034800052642822, -4.978700160980225, -4.085599899291992, -5.382500171661377, -5.098700046539307, -4.814199924468994, -4.257299900054932, -5.01140022277832, -4.911900043487549, -4.6132001876831055, -4.694200038909912, -4.907800197601318, -4.698699951171875, -4.813700199127197, -5.129700183868408, -4.60129976272583, -5.586599826812744, -5.867199897766113, -5.978700160980225, -6.125500202178955, -6.13640022277832, -6.206699848175049, -5.998000144958496, -6.404799938201904, -6.423799991607666, -6.435999870300293, -6.456699848175049, -6.495500087738037, -6.521999835968018, -6.555799961090088, -6.565499782562256, -6.643700122833252, -6.656799793243408, -6.6921000480651855, -6.692399978637695, -6.7891998291015625, -6.799799919128418, -6.866799831390381, -6.882999897003174, -6.885900020599365, -6.91480016708374, -6.917900085449219, -6.925600051879883, -6.941400051116943, -6.960899829864502, -5.894100189208984, -3.206899881362915, -5.931700229644775, -6.500800132751465, -3.914400100708008, -5.239699840545654, -5.801400184631348, -5.487299919128418, -3.2311999797821045, -5.626500129699707, -4.672100067138672, -5.824399948120117, -5.2342000007629395, -5.429200172424316, -4.639599800109863, -4.608799934387207, -5.78980016708374, -4.771299839019775, -4.6605000495910645, -4.370500087738037, -4.660099983215332, -4.872799873352051, -3.8970000743865967, -4.978600025177002, -4.526199817657471, -5.2399001121521, -5.5243000984191895, -4.101399898529053, -4.848199844360352, -5.19189977645874, -4.5945000648498535, -4.8403000831604, -4.5553998947143555, -4.913000106811523, -4.934899806976318, -4.684299945831299, -4.922100067138672, -5.057700157165527, -4.4608001708984375, -4.920300006866455, -4.95989990234375, -4.7546000480651855, -4.750899791717529, -5.024899959564209, -5.461900234222412, -5.860099792480469, -6.025700092315674, -6.127600193023682, -6.176000118255615, -6.031700134277344, -6.724699974060059, -6.747399806976318, -6.749300003051758, -6.822500228881836, -6.826099872589111, -6.8282999992370605, -6.831900119781494, -6.8520002365112305, -6.8709001541137695, -6.872399806976318, -6.882800102233887, -6.894800186157227, -6.920199871063232, -6.947999954223633, -6.984499931335449, -7.013899803161621, -7.028600215911865, -7.052000045776367, -7.0706000328063965, -6.141200065612793, -7.166100025177002, -7.19890022277832, -7.200300216674805, -7.214399814605713, -6.487800121307373, -5.848700046539307, -4.443999767303467, -6.142000198364258, -4.107100009918213, -3.846400022506714, -5.691199779510498, -6.1143999099731445, -3.6468000411987305, -4.958199977874756, -5.020400047302246, -4.566100120544434, -4.041900157928467, -2.781899929046631, -4.264800071716309, -4.758900165557861, -4.11929988861084, -3.1974000930786133, -4.747000217437744, -4.922399997711182, -3.657099962234497, -5.28000020980835, -4.495500087738037, -4.82289981842041, -4.115699768066406, -3.7011001110076904, -4.723599910736084, -4.516200065612793, -4.9842000007629395, -5.289999961853027, -4.348100185394287, -4.411200046539307, -4.815400123596191, -4.578499794006348, -4.922100067138672, -4.715000152587891, -4.71589994430542, -4.000500202178955, -4.6697001457214355, -4.7153000831604, -5.4653000831604, -5.49560022354126, -5.73859977722168, -5.758900165557861, -5.815000057220459, -6.061500072479248, -6.082699775695801, -6.105000019073486, -6.168799877166748, -6.213200092315674, -6.299499988555908, -6.322700023651123, -6.364099979400635, -6.4253997802734375, -6.43209981918335, -6.453000068664551, -6.456999778747559, -6.467299938201904, -6.503300189971924, -6.53879976272583, -6.553100109100342, -6.575300216674805, -6.626100063323975, -6.716000080108643, -6.733799934387207, -6.736800193786621, -6.743800163269043, -5.5472002029418945, -6.096099853515625, -6.192800045013428, -6.423699855804443, -3.484800100326538, -5.178299903869629, -5.3059000968933105, -2.8824000358581543, -5.335299968719482, -5.864299774169922, -3.5785999298095703, -5.069900035858154, -5.4847002029418945, -5.109000205993652, -4.480100154876709, -3.5857999324798584, -5.289400100708008, -3.364500045776367, -3.775399923324585, -4.4807000160217285, -5.243100166320801, -4.112599849700928, -4.856900215148926, -3.853600025177002, -3.9816999435424805, -3.670099973678589, -4.524199962615967, -4.670899868011475, -4.907199859619141, -5.047100067138672, -5.031700134277344, -5.03249979019165, -5.0177998542785645, -5.088699817657471, -5.139400005340576, -5.287499904632568]}, \"token.table\": {\"Topic\": [5, 5, 4, 4, 2, 1, 4, 5, 1, 2, 3, 4, 6, 3, 1, 3, 4, 5, 6, 1, 2, 3, 5, 6, 3, 2, 3, 4, 5, 6, 1, 2, 3, 4, 6, 4, 6, 5, 1, 4, 5, 5, 1, 2, 3, 4, 5, 1, 5, 1, 2, 3, 4, 5, 6, 1, 3, 1, 4, 1, 2, 3, 5, 6, 3, 4, 4, 1, 2, 3, 4, 5, 6, 1, 1, 2, 3, 4, 5, 6, 1, 6, 5, 6, 1, 2, 3, 4, 5, 6, 1, 2, 4, 2, 3, 2, 3, 6, 1, 2, 3, 4, 1, 2, 3, 5, 1, 1, 2, 3, 5, 1, 4, 4, 4, 2, 6, 1, 3, 1, 2, 3, 4, 1, 2, 3, 4, 6, 6, 6, 2, 3, 6, 1, 3, 4, 5, 6, 6, 1, 2, 4, 5, 6, 1, 6, 3, 5, 6, 1, 4, 2, 2, 3, 5, 5, 3, 5, 1, 2, 3, 5, 3, 1, 2, 3, 4, 6, 4, 2, 6, 6, 4, 6, 2, 1, 2, 3, 4, 6, 1, 2, 3, 4, 5, 6, 1, 2, 3, 4, 5, 4, 1, 2, 3, 4, 5, 6, 1, 2, 3, 4, 5, 6, 1, 4, 5, 6, 6, 6, 4, 4, 3, 1, 2, 4, 5, 5, 6, 2, 3, 5, 6, 1, 4, 3, 1, 4, 4, 6, 3, 1, 4, 2, 6, 2, 6, 1, 2, 3, 4, 5, 6, 4, 1, 2, 3, 4, 5, 6, 5, 6, 2, 6, 2, 5, 6, 5, 1, 2, 3, 4, 5, 3, 2, 3, 6, 1, 2, 3, 4, 5, 6, 4, 4, 1, 3, 6, 3, 5, 5, 1, 2, 3, 5, 6, 3, 1, 4, 1, 2, 3, 4, 5, 6, 1, 2, 3, 4, 5, 6, 3, 1, 2, 3, 4, 5, 6, 1, 2, 3, 4, 5, 6, 2, 3, 6, 2, 3, 5, 6, 2, 3, 6, 1, 4, 5, 5, 1, 2, 3, 4, 5, 6, 1, 2, 3, 4, 5, 6, 1, 2, 3, 4, 5, 6, 5, 6, 1, 2, 3, 4, 5, 6, 1, 2, 3, 5, 6, 1, 1, 1, 2, 5, 6, 6, 2, 6, 1, 1, 2, 3, 4, 5, 6, 3, 4, 1, 3, 4, 4, 6, 6, 2, 3, 5, 5, 1, 2, 4, 5, 1, 2, 4, 5, 4, 2, 3, 4, 4, 5, 3, 6, 1, 4, 2, 4, 5, 6, 1, 2, 3, 4, 5, 6, 1, 2, 3, 4, 5, 1, 2, 3, 4, 5, 2, 3, 2, 3, 2, 3, 1, 2, 3, 4, 5, 6, 1, 4, 6, 2, 6, 6, 5, 2, 2, 2, 3, 6, 1, 2, 3, 5, 6, 3, 1, 6, 2, 3, 5, 1, 2, 3, 4, 5, 6, 1, 2, 3, 4, 6, 6, 2, 3, 2, 4, 1, 4, 5, 1, 4, 5, 5, 1, 4, 1, 2, 3, 4, 5, 6, 6, 2, 1, 2, 3, 4, 5, 6, 3, 1, 2, 3, 4, 5, 6, 5, 2, 1, 2, 3, 4, 6, 2, 4, 2, 3, 4, 5, 2, 4, 5, 5, 3, 3, 3, 1, 2, 3, 4, 5, 6, 1, 2, 3, 4, 6, 2, 6, 1, 2, 3, 4, 5, 6, 5, 6, 1, 4, 1, 1, 2, 3, 4, 5, 6, 4, 1, 4, 5, 6, 1, 2, 3, 4, 5, 1, 3, 4, 6, 1, 3, 1, 2, 3, 4, 6, 1, 2, 5, 2, 1, 5, 2, 1, 2, 3, 4, 5, 2, 3, 5, 6, 5, 2, 2, 1, 2, 5, 5, 6, 2, 3, 2, 3, 6, 1, 6, 1, 1, 2, 3, 4, 5, 6, 1, 5, 6, 6, 1, 2, 3, 6, 1, 2, 3, 4, 1, 2, 1, 4, 5, 6, 1, 3, 5, 6, 5, 1, 1, 2, 3, 4, 5, 6, 3, 3, 4, 1, 2, 3, 4, 5, 6, 3, 1, 2, 3, 2, 1, 2, 3, 1, 2, 3, 4, 6, 3, 5, 2, 3, 4, 5, 1, 4, 1, 2, 3, 5, 6, 3, 1, 1, 2, 3, 4, 5, 6, 6, 1, 2, 3, 4, 5, 6, 1, 3, 4, 4, 1, 3, 5, 5, 1, 2, 3, 5, 6, 2, 5, 6, 5, 1, 2, 3, 2, 1, 6, 3, 1, 5, 1, 4, 1, 3, 1, 1, 2, 3, 4, 5, 6, 3, 4, 2, 1, 4, 6, 1, 2, 3, 4, 6, 1, 3, 1, 2, 3, 4, 5, 6, 3, 6, 3, 1, 2, 3, 4, 5, 6, 5, 5, 1, 2, 3, 4, 5, 6, 6, 6, 3, 4, 1, 3, 5, 5, 4, 1, 2, 3, 4, 5, 6, 1, 6, 2, 4, 6, 4, 6, 2, 1, 4, 5, 1, 5, 6, 1, 2, 3, 4, 6, 3, 4, 4, 1, 6, 1, 5, 1, 3, 1, 2, 3, 4, 5, 6, 2, 2, 3, 6, 2, 1, 3, 4], \"Freq\": [1.0008751153945923, 0.9979234933853149, 1.0011992454528809, 0.9988335967063904, 0.9998785853385925, 0.9983649849891663, 0.9902405738830566, 0.010802624747157097, 0.038325097411870956, 0.424791544675827, 0.2926959693431854, 0.04571202024817467, 0.19849097728729248, 0.998253583908081, 0.1273873895406723, 0.00021794250642415136, 0.4043923020362854, 0.19865459203720093, 0.2691589891910553, 0.999902069568634, 0.8273192644119263, 0.0627301037311554, 0.0008448499138467014, 0.10919684916734695, 0.9983228445053101, 0.08037889003753662, 0.053294699639081955, 0.549547016620636, 0.1773577779531479, 0.13891568779945374, 0.21716849505901337, 0.03448079153895378, 0.13429361581802368, 0.5861734747886658, 0.02782660536468029, 0.13159866631031036, 0.8682651519775391, 1.0038098096847534, 0.06157582253217697, 0.41998958587646484, 0.5182985663414001, 0.9987561702728271, 0.6119319796562195, 0.010492987930774689, 0.03815631940960884, 0.2069980353116989, 0.13259321451187134, 0.9814609885215759, 0.018549948930740356, 0.2581184506416321, 0.056057315319776535, 0.13683080673217773, 0.34245923161506653, 0.1240905150771141, 0.08230233192443848, 1.0010985136032104, 0.9961442947387695, 1.0000966787338257, 0.9995558261871338, 0.6162678599357605, 0.014956096187233925, 0.14035721123218536, 0.08283376693725586, 0.14534257352352142, 1.0000361204147339, 0.9977107644081116, 1.0010590553283691, 0.0028817104175686836, 0.6772019267082214, 0.16368114948272705, 0.011526841670274734, 0.007492446806281805, 0.13774575293064117, 0.9986227750778198, 0.4051005244255066, 0.06924708932638168, 0.03054129332304001, 0.09867962449789047, 0.39068666100502014, 0.0057453918270766735, 0.27830609679222107, 0.7218897342681885, 0.9742059707641602, 0.02474888041615486, 0.12220402806997299, 0.0010571283055469394, 0.1996915340423584, 0.03911374509334564, 0.00021142566401977092, 0.6377654671669006, 1.001257300376892, 0.9985023736953735, 1.0000755786895752, 0.2509206533432007, 0.7497628927230835, 0.5763133764266968, 0.4213268756866455, 0.002272529061883688, 0.21115712821483612, 0.02056725323200226, 0.734936535358429, 0.033593181520700455, 0.586955189704895, 0.14812399446964264, 0.041740674525499344, 0.22310945391654968, 0.9988596439361572, 0.019819460809230804, 0.41836294531822205, 0.0004308578500058502, 0.561407744884491, 0.313505083322525, 0.6863219738006592, 0.9999638795852661, 0.9999462366104126, 0.9982902407646179, 1.0008829832077026, 0.9997712969779968, 1.00094735622406, 0.7682577967643738, 0.018662134185433388, 0.07853648066520691, 0.13452287018299103, 0.16080020368099213, 0.016331270337104797, 0.09421887248754501, 0.5858319997787476, 0.1427939385175705, 0.9976746439933777, 1.0003339052200317, 0.16153757274150848, 0.711015522480011, 0.12740740180015564, 0.5364389419555664, 0.0003190556599292904, 0.002765149110928178, 0.14293693006038666, 0.31756672263145447, 0.9979307651519775, 0.2767776548862457, 0.003004370955750346, 0.033799171447753906, 0.2279566377401352, 0.4585421085357666, 0.38005530834198, 0.6208711266517639, 0.15528210997581482, 0.004852565936744213, 0.8394939303398132, 0.00983280036598444, 0.9911462664604187, 1.0021538734436035, 0.3655593991279602, 0.11550121009349823, 0.5187832117080688, 0.9988971948623657, 0.1215439885854721, 0.8772305250167847, 1.0019609928131104, 0.28115153312683105, 0.2314339429140091, 0.48729056119918823, 0.9987319707870483, 0.001767442561686039, 0.5788373947143555, 0.2000155746936798, 0.16790704429149628, 0.05096125975251198, 1.0003666877746582, 0.9989422559738159, 1.0010321140289307, 1.0003708600997925, 0.9998107552528381, 1.0022863149642944, 1.0006016492843628, 0.08290265500545502, 0.0019392434041947126, 0.6743718981742859, 0.02375573106110096, 0.21719525754451752, 0.38271692395210266, 0.10846830159425735, 0.13118083775043488, 0.2721259593963623, 0.0870293602347374, 0.01846720650792122, 0.020965401083230972, 0.38775405287742615, 0.004023663233965635, 0.02858918532729149, 0.5586538314819336, 1.0023542642593384, 0.11365913599729538, 0.0013860870385542512, 0.07311608642339706, 0.6310160756111145, 0.009356087073683739, 0.17152826488018036, 0.0009700965019874275, 0.07232607901096344, 0.00280250096693635, 0.7784485220909119, 0.14508332312107086, 0.0003233655006624758, 0.0024772686883807182, 0.6391353607177734, 0.3509463965892792, 0.007431806530803442, 1.0007559061050415, 0.9981573820114136, 0.9976718425750732, 0.9981845021247864, 1.0003201961517334, 0.09450437128543854, 0.003799170721322298, 0.81207275390625, 0.08975540846586227, 0.24877548217773438, 0.7511018514633179, 0.3633578419685364, 0.0004787323414348066, 0.6166072487831116, 0.019628025591373444, 0.06657402962446213, 0.9332692623138428, 1.0007390975952148, 1.0004000663757324, 1.0005638599395752, 0.8929757475852966, 0.10748782008886337, 0.9998881816864014, 0.7530097365379333, 0.24664339423179626, 0.7635461688041687, 0.23617595434188843, 0.9942395091056824, 0.004624370019882917, 0.22957555949687958, 0.04782823845744133, 0.31908267736434937, 0.32910382747650146, 0.05488859862089157, 0.019586803391575813, 1.0021061897277832, 0.04873323813080788, 0.11574144661426544, 0.471426397562027, 0.006768505554646254, 0.2673559784889221, 0.09035954624414444, 0.8326362371444702, 0.16751261055469513, 0.8834769129753113, 0.11740557104349136, 0.37846821546554565, 0.5898066163063049, 0.031808581203222275, 1.0022214651107788, 0.017627090215682983, 0.15826061367988586, 0.6583334803581238, 0.042151737958192825, 0.12377282977104187, 0.9983766674995422, 0.1643798053264618, 0.8190024495124817, 0.016655221581459045, 0.056279703974723816, 0.5223314762115479, 0.028139851987361908, 0.03511667251586914, 0.2037232220172882, 0.15442034602165222, 0.9997596144676208, 0.9990236163139343, 0.3024521470069885, 0.6971953511238098, 0.0003456595877651125, 1.000527262687683, 0.9977174401283264, 1.0007883310317993, 0.002509703394025564, 0.11879263073205948, 0.07529110461473465, 0.6399743556976318, 0.1631307303905487, 0.9998621344566345, 0.026115113869309425, 0.9742946624755859, 0.17510998249053955, 0.27823030948638916, 0.142033651471138, 0.14041227102279663, 0.006161277182400227, 0.25812509655952454, 0.2529006004333496, 0.296857625246048, 0.04238007217645645, 0.05420706793665886, 0.12339499592781067, 0.23023220896720886, 0.9968701601028442, 0.012912333942949772, 0.5116042494773865, 0.10868925601243973, 0.09903635084629059, 0.034286633133888245, 0.2334875911474228, 0.0007236247765831649, 0.1193980947136879, 0.5966286659240723, 0.0036181239411234856, 0.279319167137146, 0.9976550340652466, 0.9930140376091003, 0.005145150702446699, 1.0002796649932861, 0.3932034373283386, 0.030856773257255554, 0.5754053592681885, 0.0005877480725757778, 0.11630957573652267, 0.8197498917579651, 0.06420288980007172, 0.5835816264152527, 0.38176876306533813, 0.03497118502855301, 0.999430239200592, 0.25926271080970764, 0.01638970896601677, 0.41729483008384705, 0.24303367733955383, 0.024664904922246933, 0.03928709775209427, 0.2845104932785034, 0.17759816348552704, 0.17376933991909027, 0.3425317704677582, 0.011780972592532635, 0.010013827122747898, 0.2696288228034973, 0.022821985185146332, 0.05481981858611107, 0.33738893270492554, 0.1501074880361557, 0.16540056467056274, 0.9589851498603821, 0.041565921157598495, 0.00031772180227562785, 0.4175499975681305, 0.17131559550762177, 0.00012708872964140028, 0.3900353014469147, 0.020651917904615402, 0.00016993565077427775, 0.465623676776886, 0.03194789960980415, 0.4163423180580139, 0.08598743379116058, 0.999555230140686, 0.9989346265792847, 0.9997378587722778, 0.3316503167152405, 0.5428639054298401, 0.1253799945116043, 0.9969403743743896, 0.9975579977035522, 1.00213623046875, 0.9996964931488037, 0.017237288877367973, 0.17135892808437347, 0.010139581747353077, 0.2139451652765274, 0.010139581747353077, 0.5769422054290771, 1.0011441707611084, 1.0001059770584106, 0.00012130450340919197, 0.10213839262723923, 0.897653341293335, 0.9999431371688843, 0.9993577599525452, 1.0033414363861084, 0.8672017455101013, 0.1276591420173645, 0.006603058893233538, 0.999843955039978, 0.0009548745001666248, 0.0028646234422922134, 0.9252733588218689, 0.07066071033477783, 0.003910571802407503, 0.03206668794155121, 0.7625614404678345, 0.20178548991680145, 1.0006753206253052, 0.7339046001434326, 0.19850587844848633, 0.06692484021186829, 0.2899615466594696, 0.709766685962677, 0.9454793334007263, 0.054485250264406204, 0.9184669256210327, 0.0799558237195015, 0.0028069850523024797, 0.22611823678016663, 0.7706733345985413, 0.9988278150558472, 0.19376404583454132, 0.1997615098953247, 0.047518327832221985, 0.46918579936027527, 0.00046134297735989094, 0.08903919905424118, 0.004295845050364733, 0.00023865805997047573, 0.007159742061048746, 0.8703859448432922, 0.11789708584547043, 0.10303785651922226, 0.0002615173871163279, 0.0007845521904528141, 0.3438953757286072, 0.5520632266998291, 0.24858513474464417, 0.7515873312950134, 0.09903822839260101, 0.9000827074050903, 0.13225093483924866, 0.8675113320350647, 0.18625985085964203, 0.367877721786499, 0.367877721786499, 0.01189509965479374, 0.012765472754836082, 0.05309275910258293, 0.5624076128005981, 0.02511627785861492, 0.41269493103027344, 1.001289963722229, 0.9992762804031372, 0.9980084896087646, 0.9995547533035278, 1.001606822013855, 0.9995714426040649, 0.5276222825050354, 0.4718368351459503, 0.0007198121165856719, 0.7524669766426086, 0.002034117467701435, 0.16460704803466797, 0.02440940961241722, 0.05664234608411789, 0.9969614744186401, 0.005693389102816582, 0.9963431358337402, 0.997625470161438, 0.9997283816337585, 0.9994494915008545, 0.3636889159679413, 0.1381884515285492, 0.14018796384334564, 0.15618406236171722, 0.12396970391273499, 0.0777587741613388, 0.09600281715393066, 0.72002112865448, 0.04702179133892059, 0.031837668269872665, 0.10530921816825867, 1.0005213022232056, 0.020046714693307877, 0.9800615906715393, 1.0006206035614014, 0.9994910955429077, 0.033072687685489655, 0.7801263928413391, 0.18676342070102692, 0.16466239094734192, 0.6433491110801697, 0.19198469817638397, 1.0003076791763306, 0.16945166885852814, 0.8309077620506287, 0.06272275745868683, 0.2497294843196869, 0.4499002695083618, 0.048397187143564224, 0.1579684168100357, 0.031361378729343414, 0.999942421913147, 0.9992424249649048, 0.24058333039283752, 0.12467978149652481, 0.41963762044906616, 0.15014994144439697, 0.004769693128764629, 0.06019352748990059, 0.9976449608802795, 0.24020472168922424, 0.07241465896368027, 0.3981040120124817, 0.05687200278043747, 0.039916373789310455, 0.19216378033161163, 0.9996952414512634, 0.9963962435722351, 0.07939552515745163, 0.41878053545951843, 0.1262923628091812, 0.2336614429950714, 0.141924649477005, 0.9989432096481323, 0.9973892569541931, 0.28041133284568787, 0.05392525717616081, 0.0004148096777498722, 0.6653547286987305, 0.9997710585594177, 0.9491584300994873, 0.05149141326546669, 0.9991965293884277, 1.000734806060791, 0.997413158416748, 0.9970763325691223, 0.010803047567605972, 0.37890690565109253, 0.38250792026519775, 0.1960553079843521, 0.01360383816063404, 0.018405193462967873, 0.0010201126569882035, 0.8568946719169617, 0.0479452945291996, 0.0010201126569882035, 0.09283025562763214, 1.0006145238876343, 0.9991455078125, 0.41010862588882446, 0.18236301839351654, 0.12754309177398682, 0.25647401809692383, 0.0020817695185542107, 0.02165040373802185, 0.9994474649429321, 0.9998155832290649, 0.9960305094718933, 0.003921379800885916, 0.9983078241348267, 0.029107987880706787, 0.09460096061229706, 0.025138717144727707, 0.5722365975379944, 0.046638935804367065, 0.23253312706947327, 0.9997984766960144, 0.8228605389595032, 0.013552997261285782, 0.03485056385397911, 0.12875348329544067, 0.6148169040679932, 0.0839281752705574, 0.00024612367269583046, 0.25818371772766113, 0.042825520038604736, 0.27962160110473633, 0.7189706563949585, 0.0011831661686301231, 0.0002629258087836206, 0.33676669001579285, 0.6634185314178467, 0.6982567310333252, 0.055929023772478104, 0.156658336520195, 0.08532029390335083, 0.0039949300698935986, 1.0009878873825073, 1.0017634630203247, 0.9974204301834106, 0.9987227916717529, 0.999273955821991, 1.0007835626602173, 0.9994979500770569, 0.40613067150115967, 0.028783895075321198, 0.07738827913999557, 0.24251693487167358, 0.24516808986663818, 0.34216222167015076, 0.013982590287923813, 0.6423766613006592, 0.0012337579391896725, 0.999850332736969, 0.9996544718742371, 0.997310221195221, 0.9513632655143738, 0.048500873148441315, 1.0025261640548706, 0.0047426908276975155, 0.9959650635719299, 1.0001417398452759, 1.0020064115524292, 0.45169419050216675, 0.5086192488670349, 0.039580684155225754, 0.13710302114486694, 0.8629425764083862, 0.9995033740997314, 0.13234063982963562, 0.19058044254779816, 0.056009337306022644, 0.19380222260951996, 0.30160778760910034, 0.12564925849437714, 0.23723244667053223, 0.14518626034259796, 0.6177533268928528, 1.000298261642456, 1.0016072988510132, 0.8810624480247498, 0.05600886046886444, 0.0624714195728302, 0.8683241605758667, 0.0025671077892184258, 0.0712372362613678, 0.05840170010924339, 1.0013970136642456, 1.0006636381149292, 0.8713964223861694, 0.06659702211618423, 0.025614239275455475, 0.03637222200632095, 0.003604983678087592, 0.015140931122004986, 0.7152287364006042, 0.26676878333091736, 0.999811053276062, 1.000611424446106, 0.03716633468866348, 0.382024884223938, 0.3480120599269867, 0.01419078279286623, 0.16938838362693787, 0.049104612320661545, 0.9960812926292419, 1.0018199682235718, 0.9989506602287292, 0.07939717918634415, 0.0075926268473267555, 0.04946054145693779, 0.2889536917209625, 0.3562026619911194, 0.21888458728790283, 0.9989959001541138, 0.07958720624446869, 0.13774709403514862, 0.782097339630127, 1.0009373426437378, 0.866157054901123, 0.1104845330119133, 0.022930752485990524, 0.10079986602067947, 0.36406442523002625, 0.2671029567718506, 0.10021576285362244, 0.16772162914276123, 0.9998939633369446, 1.0005542039871216, 0.13084155321121216, 0.011695334687829018, 0.30407869815826416, 0.5533354878425598, 0.9993337392807007, 1.0009701251983643, 0.25359734892845154, 0.048000458627939224, 0.6585632562637329, 0.03364589065313339, 0.0061519574373960495, 0.9988905191421509, 0.9991371631622314, 0.00114592001773417, 0.45989587903022766, 0.1663493812084198, 0.00114592001773417, 0.3541847765445709, 0.017284292727708817, 0.9975273609161377, 0.006292094010859728, 0.20314475893974304, 0.323593407869339, 0.005393223371356726, 0.4620194733142853, 1.0000139474868774, 0.6228440999984741, 0.22648876905441284, 0.15118125081062317, 1.000643253326416, 0.9705599546432495, 0.029347386211156845, 0.9977834224700928, 0.9985908269882202, 0.5284500122070312, 0.038271065801382065, 0.3533308506011963, 0.04909520596265793, 0.030539538711309433, 0.05668254941701889, 0.9178412556648254, 0.025481145828962326, 1.000770092010498, 0.2842476963996887, 0.1411391645669937, 0.5744035840034485, 0.9988787770271301, 1.0008389949798584, 1.001102089881897, 0.9948938488960266, 0.999654233455658, 1.0021013021469116, 0.9990695118904114, 0.9997568726539612, 0.8371238708496094, 0.1628008484840393, 0.9995711445808411, 0.4536879360675812, 0.027226747944951057, 0.07114527374505997, 0.23108531534671783, 0.2109730988740921, 0.00601998483762145, 0.9987792372703552, 0.9985029697418213, 0.9992784261703491, 0.38113895058631897, 0.619127094745636, 1.0016499757766724, 0.10381056368350983, 0.0003992714046034962, 0.5537894368171692, 0.06548050791025162, 0.2766950726509094, 0.0032427941914647818, 0.9987806081771851, 0.020668847486376762, 0.31565430760383606, 0.06534568220376968, 0.08926913887262344, 0.39308851957321167, 0.11598224937915802, 0.9959046244621277, 1.000955581665039, 1.001787781715393, 0.13364094495773315, 0.4341791272163391, 0.11947624385356903, 0.032332487404346466, 0.008929925039410591, 0.27143892645835876, 0.9972181916236877, 0.9988768100738525, 0.005067318677902222, 0.25463277101516724, 0.09849601238965988, 0.06840880215167999, 0.18717409670352936, 0.386383056640625, 1.0025020837783813, 1.0000734329223633, 0.07712773233652115, 0.9227281212806702, 0.009171055629849434, 0.9904740452766418, 0.999106764793396, 1.0023939609527588, 1.0006775856018066, 0.007320371922105551, 0.37352198362350464, 0.06460228562355042, 0.0025621303357183933, 0.0016470836708322167, 0.5503089427947998, 1.0000535249710083, 1.0000985860824585, 0.008260516449809074, 0.25277179479599, 0.738490104675293, 0.09198735654354095, 0.9080042243003845, 1.0002425909042358, 0.39706724882125854, 0.5646907091140747, 0.038118455559015274, 0.8258471488952637, 0.16813653707504272, 0.006181490607559681, 0.259316623210907, 0.0656149610877037, 0.6223598718643188, 0.023967143148183823, 0.0290748942643404, 0.9944935441017151, 0.005048190709203482, 1.001497745513916, 1.0003103017807007, 0.9985673427581787, 1.0014781951904297, 0.998639702796936, 0.03137930855154991, 0.9679309725761414, 0.18230465054512024, 0.23598945140838623, 0.2622726261615753, 0.24866503477096558, 0.01901336759328842, 0.051820747554302216, 1.0002630949020386, 0.6687167286872864, 0.0006594839505851269, 0.3304014503955841, 0.9994367361068726, 0.08701073378324509, 0.8567211031913757, 0.05800715833902359], \"Term\": [\"accessible\", \"accident\", \"accommodation\", \"affect\", \"affordable\", \"agent\", \"air_traffic\", \"air_traffic\", \"airline\", \"airline\", \"airline\", \"airline\", \"airline\", \"airliner\", \"airport\", \"airport\", \"airport\", \"airport\", \"airport\", \"allow\", \"always\", \"always\", \"always\", \"always\", \"am\", \"amsterdam\", \"amsterdam\", \"amsterdam\", \"amsterdam\", \"amsterdam\", \"another\", \"another\", \"another\", \"another\", \"another\", \"app\", \"app\", \"april\", \"arrive\", \"arrive\", \"arrive\", \"arrive_early\", \"ask\", \"ask\", \"ask\", \"ask\", \"ask\", \"baby\", \"baby\", \"back\", \"back\", \"back\", \"back\", \"back\", \"back\", \"backpack\", \"bad_press\", \"bag\", \"bagage\", \"baggage\", \"baggage\", \"baggage\", \"baggage\", \"baggage\", \"basic\", \"bcn\", \"beer\", \"best\", \"best\", \"best\", \"best\", \"best\", \"best\", \"bind\", \"board\", \"board\", \"board\", \"board\", \"board\", \"board\", \"board_pas\", \"board_pas\", \"bonus\", \"bonus\", \"book\", \"book\", \"book\", \"book\", \"book\", \"book\", \"bottle_water\", \"brand_new\", \"brussels\", \"budget\", \"budget\", \"budget_airline\", \"budget_airline\", \"budget_airline\", \"buy\", \"buy\", \"buy\", \"buy\", \"cabin\", \"cabin\", \"cabin\", \"cabin\", \"cabin_bag\", \"cabin_crew\", \"cabin_crew\", \"cabin_crew\", \"cabin_crew\", \"call\", \"call\", \"cancel\", \"cancellation\", \"card\", \"careful\", \"carry\", \"carry-on_luggage\", \"case\", \"case\", \"case\", \"case\", \"change\", \"change\", \"change\", \"change\", \"change\", \"chania\", \"charter\", \"cheap\", \"cheap\", \"cheap\", \"check\", \"check\", \"check\", \"check\", \"check\", \"check-\", \"check-in\", \"check-in\", \"check-in\", \"check-in\", \"check-in\", \"check_online\", \"check_online\", \"city\", \"city\", \"city\", \"claim\", \"claim\", \"class\", \"clean\", \"clean\", \"clean\", \"client\", \"cold\", \"cold\", \"colour\", \"comfortable\", \"comfortable\", \"comfortable\", \"common\", \"company\", \"company\", \"company\", \"company\", \"company\", \"compensation\", \"competitor\", \"complicate\", \"connect\", \"contact\", \"content\", \"convenience\", \"cost\", \"cost\", \"cost\", \"cost\", \"cost\", \"could\", \"could\", \"could\", \"could\", \"could\", \"could\", \"crew\", \"crew\", \"crew\", \"crew\", \"crew\", \"cup_water\", \"day\", \"day\", \"day\", \"day\", \"day\", \"day\", \"delay\", \"delay\", \"delay\", \"delay\", \"delay\", \"delay\", \"departure\", \"departure\", \"departure\", \"departure\", \"departure_arrival\", \"different_row\", \"dog\", \"download\", \"dublin\", \"due\", \"due\", \"due\", \"due\", \"easy\", \"easy\", \"efficient\", \"efficient\", \"efficient\", \"efficient\", \"email\", \"email\", \"emergency_exit\", \"empty\", \"engine\", \"english\", \"english\", \"eur\", \"euro\", \"euro\", \"europe\", \"europe\", \"european\", \"european\", \"even\", \"even\", \"even\", \"even\", \"even\", \"even\", \"event\", \"everything\", \"everything\", \"everything\", \"everything\", \"everything\", \"everything\", \"everything_go\", \"everything_go\", \"example\", \"example\", \"excellent\", \"excellent\", \"excellent\", \"excellent_value\", \"expect\", \"expect\", \"expect\", \"expect\", \"expect\", \"expect_much\", \"expensive\", \"expensive\", \"expensive\", \"experience\", \"experience\", \"experience\", \"experience\", \"experience\", \"experience\", \"explain\", \"explanation\", \"extra\", \"extra\", \"extra\", \"extra_leg\", \"facebook\", \"fair_price\", \"fast\", \"fast\", \"fast\", \"fast\", \"fast\", \"final_destination\", \"finally\", \"finally\", \"find\", \"find\", \"find\", \"find\", \"find\", \"find\", \"first\", \"first\", \"first\", \"first\", \"first\", \"first\", \"fleet\", \"fly\", \"fly\", \"fly\", \"fly\", \"fly\", \"fly\", \"food\", \"food\", \"food\", \"food\", \"food\", \"food_beverage\", \"frequent\", \"frequent\", \"frequently\", \"friendly\", \"friendly\", \"friendly\", \"friendly\", \"frill\", \"frill\", \"frill\", \"gate\", \"gate\", \"gate\", \"general\", \"get\", \"get\", \"get\", \"get\", \"get\", \"get\", \"give\", \"give\", \"give\", \"give\", \"give\", \"give\", \"go\", \"go\", \"go\", \"go\", \"go\", \"go\", \"go_smoothly\", \"go_smoothly\", \"good\", \"good\", \"good\", \"good\", \"good\", \"good\", \"great\", \"great\", \"great\", \"great\", \"great\", \"hand_luggage\", \"handbag\", \"handluggage\", \"helpful\", \"helpful\", \"helpful\", \"helpfull\", \"heraklion\", \"highly_recommend\", \"hold\", \"holiday\", \"holiday\", \"holiday\", \"holiday\", \"holiday\", \"holiday\", \"horribly\", \"hotel\", \"hour\", \"hour\", \"hour\", \"hr\", \"huge\", \"impression\", \"improve\", \"improve\", \"improve\", \"inbound\", \"inform\", \"inform\", \"inform\", \"inform\", \"information\", \"information\", \"information\", \"information\", \"internet\", \"kind\", \"kind\", \"kind\", \"klm\", \"klm\", \"knee\", \"knee\", \"lady\", \"lady\", \"land\", \"land\", \"land\", \"language\", \"last\", \"last\", \"last\", \"last\", \"last\", \"last\", \"late\", \"late\", \"late\", \"late\", \"late\", \"leave\", \"leave\", \"leave\", \"leave\", \"leave\", \"leg_room\", \"leg_room\", \"leg_space\", \"leg_space\", \"legroom\", \"legroom\", \"like\", \"like\", \"like\", \"like\", \"like\", \"like\", \"line\", \"line\", \"line\", \"listen\", \"little_bite\", \"location\", \"lounge\", \"low-cost\", \"low-cost_airline\", \"low_cost\", \"low_cost\", \"low_cost\", \"luggage\", \"luggage\", \"luggage\", \"luggage\", \"luggage\", \"luxury\", \"madrid\", \"madrid\", \"magazine\", \"mail\", \"majority\", \"make\", \"make\", \"make\", \"make\", \"make\", \"make\", \"many\", \"many\", \"many\", \"many\", \"many\", \"march\", \"meal\", \"meal\", \"menu\", \"message\", \"min\", \"min\", \"min\", \"minute\", \"minute\", \"minute\", \"minute_early\", \"miss\", \"miss\", \"much\", \"much\", \"much\", \"much\", \"much\", \"much\", \"munich\", \"must_say\", \"n't\", \"n't\", \"n't\", \"n't\", \"n't\", \"n't\", \"narrow\", \"need\", \"need\", \"need\", \"need\", \"need\", \"need\", \"need_assistance\", \"nervous_fly\", \"never\", \"never\", \"never\", \"never\", \"never\", \"new_plan\", \"next_day\", \"nice\", \"nice\", \"nice\", \"nice\", \"nicely\", \"night\", \"night\", \"noisy\", \"nothing_complain\", \"nothing_special\", \"nowadays\", \"offer\", \"offer\", \"offer\", \"offer\", \"offer\", \"offer\", \"often\", \"often\", \"often\", \"often\", \"often\", \"on-board\", \"on-line\", \"one\", \"one\", \"one\", \"one\", \"one\", \"one\", \"ongoing\", \"online\", \"online_check-in\", \"online_check-in\", \"overhead\", \"paris\", \"paris\", \"paris\", \"paris\", \"paris\", \"paris\", \"paris_orly\", \"pas\", \"pas\", \"pas\", \"pas\", \"passenger\", \"passenger\", \"passenger\", \"passenger\", \"passenger\", \"pay\", \"pay\", \"pay\", \"pay\", \"pay_extra\", \"pay_extra\", \"people\", \"people\", \"people\", \"people\", \"people\", \"per_person\", \"perfectly\", \"perk\", \"pet\", \"piece\", \"pisa\", \"plan_clean\", \"plane\", \"plane\", \"plane\", \"plane\", \"plane\", \"pleasant\", \"pleasant\", \"pleasant\", \"pleasant\", \"pleasantly\", \"pleasantly_surprise\", \"pocket\", \"policy\", \"policy\", \"politely\", \"porto\", \"porto\", \"positive\", \"prepay\", \"price\", \"price\", \"price\", \"print\", \"print\", \"print_board\", \"problem\", \"problem\", \"problem\", \"problem\", \"problem\", \"problem\", \"process\", \"process\", \"process\", \"proper\", \"properly\", \"punctual\", \"punctual\", \"punctual\", \"put\", \"put\", \"put\", \"put\", \"put_hold\", \"quality\", \"queue\", \"queue\", \"queue\", \"queue\", \"quick\", \"quick\", \"quick\", \"quick\", \"rate\", \"reach\", \"really\", \"really\", \"really\", \"really\", \"really\", \"really\", \"rebooked\", \"recline\", \"refund\", \"return\", \"return\", \"return\", \"return\", \"return\", \"return\", \"ridiculously\", \"room\", \"room\", \"room\", \"roomy\", \"rude\", \"rude\", \"rude\", \"ryanair\", \"ryanair\", \"ryanair\", \"ryanair\", \"ryanair\", \"satisfaction\", \"satisfy\", \"schedule\", \"schedule\", \"schedule\", \"schedule\", \"schiphol\", \"screen\", \"seat\", \"seat\", \"seat\", \"seat\", \"seat\", \"seat_pitch\", \"separate\", \"service\", \"service\", \"service\", \"service\", \"service\", \"service\", \"sevilla\", \"short\", \"short\", \"short\", \"short\", \"short\", \"simple\", \"sit\", \"sit\", \"sit\", \"site\", \"size\", \"size\", \"slick\", \"slight_delay\", \"small\", \"small\", \"small\", \"small\", \"small\", \"smooth\", \"smooth\", \"smooth\", \"smoothly\", \"space\", \"space\", \"space\", \"spacious\", \"special\", \"spotless\", \"squeeze\", \"stair\", \"station\", \"store\", \"strike\", \"suitcase\", \"suitcase\", \"tag\", \"take\", \"take\", \"take\", \"take\", \"take\", \"take\", \"tall\", \"taxi\", \"tel_aviv\", \"tell\", \"tell\", \"tenerife\", \"ticket\", \"ticket\", \"ticket\", \"ticket\", \"ticket\", \"tight\", \"tight\", \"time\", \"time\", \"time\", \"time\", \"time\", \"time\", \"tin\", \"ton\", \"traffic\", \"travel\", \"travel\", \"travel\", \"travel\", \"travel\", \"travel\", \"tray\", \"treat_like\", \"trip\", \"trip\", \"trip\", \"trip\", \"trip\", \"trip\", \"trouble_free\", \"truly\", \"two_hour\", \"two_hour\", \"uncomfortable\", \"uncomfortable\", \"uneventful\", \"unpleasant\", \"upset\", \"use\", \"use\", \"use\", \"use\", \"use\", \"use\", \"vacation\", \"valencia\", \"via\", \"via\", \"via\", \"visit\", \"visit\", \"vueling\", \"wait\", \"wait\", \"wait\", \"walk\", \"walk\", \"walk\", \"want\", \"want\", \"want\", \"want\", \"want\", \"wear\", \"wear\", \"web\", \"weight\", \"well_advance\", \"woman\", \"worker\", \"worth\", \"worth\", \"would\", \"would\", \"would\", \"would\", \"would\", \"would\", \"would_recommend\", \"year\", \"year\", \"year\", \"year_ago\", \"yes\", \"yes\", \"yes\"]}, \"R\": 30, \"lambda.step\": 0.01, \"plot.opts\": {\"xlab\": \"PC1\", \"ylab\": \"PC2\"}, \"topic.order\": [2, 4, 3, 1, 5, 6]};\n",
       "\n",
       "function LDAvis_load_lib(url, callback){\n",
       "  var s = document.createElement('script');\n",
       "  s.src = url;\n",
       "  s.async = true;\n",
       "  s.onreadystatechange = s.onload = callback;\n",
       "  s.onerror = function(){console.warn(\"failed to load library \" + url);};\n",
       "  document.getElementsByTagName(\"head\")[0].appendChild(s);\n",
       "}\n",
       "\n",
       "if(typeof(LDAvis) !== \"undefined\"){\n",
       "   // already loaded: just create the visualization\n",
       "   !function(LDAvis){\n",
       "       new LDAvis(\"#\" + \"ldavis_el1529112590757704948052963\", ldavis_el1529112590757704948052963_data);\n",
       "   }(LDAvis);\n",
       "}else if(typeof define === \"function\" && define.amd){\n",
       "   // require.js is available: use it to load d3/LDAvis\n",
       "   require.config({paths: {d3: \"https://cdnjs.cloudflare.com/ajax/libs/d3/3.5.5/d3.min\"}});\n",
       "   require([\"d3\"], function(d3){\n",
       "      window.d3 = d3;\n",
       "      LDAvis_load_lib(\"https://cdn.rawgit.com/bmabey/pyLDAvis/files/ldavis.v1.0.0.js\", function(){\n",
       "        new LDAvis(\"#\" + \"ldavis_el1529112590757704948052963\", ldavis_el1529112590757704948052963_data);\n",
       "      });\n",
       "    });\n",
       "}else{\n",
       "    // require.js not available: dynamically load d3 & LDAvis\n",
       "    LDAvis_load_lib(\"https://cdnjs.cloudflare.com/ajax/libs/d3/3.5.5/d3.min.js\", function(){\n",
       "         LDAvis_load_lib(\"https://cdn.rawgit.com/bmabey/pyLDAvis/files/ldavis.v1.0.0.js\", function(){\n",
       "                 new LDAvis(\"#\" + \"ldavis_el1529112590757704948052963\", ldavis_el1529112590757704948052963_data);\n",
       "            })\n",
       "         });\n",
       "}\n",
       "</script>"
      ],
      "text/plain": [
       "<IPython.core.display.HTML object>"
      ]
     },
     "execution_count": 38,
     "metadata": {},
     "output_type": "execute_result"
    }
   ],
   "source": [
    "### set lambda to 0.6\n",
    "import pyLDAvis.gensim\n",
    "pyLDAvis.enable_notebook()\n",
    "reviews_vis = pyLDAvis.gensim.prepare(ldamodel, doc_term_matrix, dictionary)\n",
    "pyLDAvis.display(reviews_vis)"
   ]
  },
  {
   "cell_type": "markdown",
   "metadata": {},
   "source": [
    "Avec un Lambda = 0.17\n",
    "Try to understand groups : \n",
    "- Topic 1 : Ce topic représente tout ce qui touche autour de l'avion => Aeroport \n",
    "- Topic 4 : Ce topic représente tous les mots qui touche aux plaintes. \n",
    "- Topic 3 : Ce topic représente la cause des plaintes \n",
    "- Topic 2 et 5 : Tout ce qui est liée aux choses positive  \n",
    "Donc sur la PC1, nous avons l'avis des personnes. A gauche, nous avons les sentiments +, et à droite, les sentiments -\n"
   ]
  },
  {
   "cell_type": "code",
   "execution_count": 39,
   "metadata": {},
   "outputs": [
    {
     "name": "stdout",
     "output_type": "stream",
     "text": [
      "0 : \n",
      "0.040*\"hour\" + 0.040*\"delay\" + 0.020*\"airport\" + 0.020*\"late\" + 0.017*\"get\" + 0.013*\"wait\" + 0.012*\"time\" + 0.011*\"arrive\" + 0.011*\"plane\" + 0.010*\"one\"\n",
      "\n",
      "1 : \n",
      "0.021*\"check\" + 0.020*\"luggage\" + 0.017*\"board\" + 0.016*\"bag\" + 0.014*\"seat\" + 0.014*\"take\" + 0.013*\"get\" + 0.013*\"plane\" + 0.012*\"one\" + 0.011*\"n't\"\n",
      "\n",
      "2 : \n",
      "0.046*\"seat\" + 0.029*\"pay\" + 0.027*\"get\" + 0.023*\"n't\" + 0.021*\"cheap\" + 0.018*\"price\" + 0.018*\"airline\" + 0.017*\"ryanair\" + 0.014*\"good\" + 0.011*\"extra\"\n",
      "\n",
      "3 : \n",
      "0.041*\"fly\" + 0.037*\"time\" + 0.033*\"good\" + 0.025*\"airline\" + 0.024*\"service\" + 0.022*\"ryanair\" + 0.020*\"always\" + 0.015*\"price\" + 0.014*\"travel\" + 0.014*\"great\"\n",
      "\n",
      "4 : \n",
      "0.062*\"time\" + 0.041*\"good\" + 0.026*\"friendly\" + 0.026*\"board\" + 0.025*\"service\" + 0.021*\"nice\" + 0.018*\"crew\" + 0.016*\"land\" + 0.016*\"great\" + 0.016*\"arrive\"\n",
      "\n",
      "5 : \n",
      "0.056*\"book\" + 0.035*\"fly\" + 0.031*\"easy\" + 0.028*\"use\" + 0.028*\"check\" + 0.025*\"time\" + 0.023*\"airport\" + 0.021*\"airline\" + 0.019*\"ryanair\" + 0.018*\"online\"\n",
      "\n"
     ]
    }
   ],
   "source": [
    "#Careful, number assigned to a topic is different from real ldamodel to pyLDAvis \n",
    "topics = ldamodel.show_topics()\n",
    "for i, el in topics:\n",
    "    print('{} : \\n{}\\n'.format(i,el))"
   ]
  },
  {
   "cell_type": "markdown",
   "metadata": {},
   "source": [
    "## Predict my rate ! <a class=\"anchor\" id=\"predict-rate\"></a>"
   ]
  },
  {
   "cell_type": "markdown",
   "metadata": {},
   "source": [
    "#### Méthodologie\n",
    "\n",
    "Dans les commentaires scrappés, une note globale (rating) est donnée a la compagnie aérienne. \n",
    "\n",
    "L'idée du projet est donc de réussir à prédire la note en fonction du commentaire de la personne. \n",
    "Une idée d'application sur ce genre d'algorithme serait de :\n",
    "- détecter les cas où les commentaires laissent penser que l'évaluation est mauvaise alors que la note indiquée est très bonne (détéction d'anomalie)\n",
    "- créer un modèle capable de donner le sentiment positif, ou négatif d'un commentaire\n",
    "\n",
    "Soit $X$ le commentaire laissé en langage naturel. Soit $Y$ la note (rating), $Y\\in\\{1,...,5\\}$. Une note de 1 est une mauvaise note, à l'inverse 5 est la meilleure note. \n",
    "\n",
    "\n",
    "\n",
    "### Difficultés liées à cette modélisation \n",
    "\n",
    "* Les notes ont une relation de rang qu'il faut conserver. Une note de 1 est inférieure à une note de 2. En utilisant un modèle de classification à 5 classes, cette relation de rang ne sera pas conservée. \n",
    "* Il y a une fluctuation sur la note attribuée car les personnes qui notent ne le font pas selon la même méthdologie. Une personne qui a mis 1 aurait tout aussi bien pu mettre une note de 2. \n",
    "* Le commentaire peut ne pas concerner l'appréciation globale de la compagnie. Dans ce cas, il n'y a pas vraiment de lien entre la note et le commentaire. Ces données viendront donc affaiblir l'estimation du modèle. \n",
    "* Les notes ne sont pas équiréparties. Il y a plus de bonnes notes que de mauvaises notes. L'estimation devra tenir compte de cet élément en créant des classes qui possèdent le même nombre d'éléments pour éviter le surapprentissage sur les notes les plus représentées. \n",
    "* les commentaires sont écrits en langage naturel et doivent donc être nettoyés et transformés en features avant d'être intégrés au modèle de probabilité. \n",
    "\n",
    "Pour chacune de ces difficultés, nous allons construire une méthodologie permettant de les surmonter afin de construire le modèle globale qui servira à l'analyse. "
   ]
  },
  {
   "cell_type": "markdown",
   "metadata": {},
   "source": [
    "#### Construction d'une méthode d'échantillonnage "
   ]
  },
  {
   "cell_type": "code",
   "execution_count": 49,
   "metadata": {},
   "outputs": [],
   "source": [
    "# Fonction permettant de créer un échantillon de df pour lesquels les classes renseignées dans la colonne\n",
    "# column ont le même nombre d'éléments\n",
    "def custom_stratified(df,column):\n",
    "    # TODO : retourner également le dataframe des éléments qui ne font pas partie de l'échantillon. \n",
    "    pop = df.groupby(['rating']).count().reset_index()\n",
    "    N = pop.loc[pop['number'].idxmin()]['content']\n",
    "    \n",
    "    return pd.concat([\n",
    "        df[df[column] == c].sample(N) for c in df[column].unique()\n",
    "    ])"
   ]
  },
  {
   "cell_type": "markdown",
   "metadata": {},
   "source": [
    "#### Construction d'un modèle qui maintienne la relation de rang"
   ]
  },
  {
   "cell_type": "markdown",
   "metadata": {},
   "source": [
    "#### Modèle de régression <a class=\"anchor\" id=\"regression\"></a>\n",
    "\n",
    "La régression, dans la mesure où elle considère la variable à prédire comme une variable numérique tient compte par nature de la relation de rang. Une régression pourra donc être utilisée pour prédire la note. \n"
   ]
  },
  {
   "cell_type": "code",
   "execution_count": 64,
   "metadata": {},
   "outputs": [],
   "source": [
    "pipeline = Pipeline([\n",
    "    ('vect', CountVectorizer(tokenizer=preprocessing,ngram_range=(1,2))),\n",
    "    ('tfidf',TfidfTransformer()),\n",
    "    ('clf', LinearRegression())\n",
    "])"
   ]
  },
  {
   "cell_type": "code",
   "execution_count": 79,
   "metadata": {},
   "outputs": [
    {
     "data": {
      "text/html": [
       "<div>\n",
       "<style scoped>\n",
       "    .dataframe tbody tr th:only-of-type {\n",
       "        vertical-align: middle;\n",
       "    }\n",
       "\n",
       "    .dataframe tbody tr th {\n",
       "        vertical-align: top;\n",
       "    }\n",
       "\n",
       "    .dataframe thead th {\n",
       "        text-align: right;\n",
       "    }\n",
       "</style>\n",
       "<table border=\"1\" class=\"dataframe\">\n",
       "  <thead>\n",
       "    <tr style=\"text-align: right;\">\n",
       "      <th></th>\n",
       "      <th>number</th>\n",
       "      <th>content</th>\n",
       "      <th>date</th>\n",
       "    </tr>\n",
       "    <tr>\n",
       "      <th>rating</th>\n",
       "      <th></th>\n",
       "      <th></th>\n",
       "      <th></th>\n",
       "    </tr>\n",
       "  </thead>\n",
       "  <tbody>\n",
       "    <tr>\n",
       "      <th>1</th>\n",
       "      <td>9498</td>\n",
       "      <td>9498</td>\n",
       "      <td>9498</td>\n",
       "    </tr>\n",
       "    <tr>\n",
       "      <th>2</th>\n",
       "      <td>9498</td>\n",
       "      <td>9498</td>\n",
       "      <td>9498</td>\n",
       "    </tr>\n",
       "    <tr>\n",
       "      <th>3</th>\n",
       "      <td>9554</td>\n",
       "      <td>9554</td>\n",
       "      <td>9554</td>\n",
       "    </tr>\n",
       "  </tbody>\n",
       "</table>\n",
       "</div>"
      ],
      "text/plain": [
       "        number  content  date\n",
       "rating                       \n",
       "1         9498     9498  9498\n",
       "2         9498     9498  9498\n",
       "3         9554     9554  9554"
      ]
     },
     "execution_count": 79,
     "metadata": {},
     "output_type": "execute_result"
    }
   ],
   "source": [
    "dict_split_class = {i:str(math.ceil(i/2)) for i in range(1,6)}\n",
    "df_regression = df.replace({'rating':dict_split_class})\n",
    "df_regression['rating'] = df_regression.rating.astype(int)\n",
    "df = custom_stratified(df_regression,'rating')\n",
    "train, test = train_test_split(df, test_size=0.2)\n",
    "big_test = df_regression.loc[df_regression.index.difference(df.index.values)] # use data not use in split data for test \n",
    "#test = big_test\n",
    "train.groupby(['rating']).count()"
   ]
  },
  {
   "cell_type": "markdown",
   "metadata": {},
   "source": [
    "###### Training part"
   ]
  },
  {
   "cell_type": "code",
   "execution_count": 80,
   "metadata": {},
   "outputs": [
    {
     "data": {
      "text/plain": [
       "Pipeline(memory=None,\n",
       "     steps=[('vect', CountVectorizer(analyzer='word', binary=False, decode_error='strict',\n",
       "        dtype=<class 'numpy.int64'>, encoding='utf-8', input='content',\n",
       "        lowercase=True, max_df=1.0, max_features=None, min_df=1,\n",
       "        ngram_range=(1, 2), preprocessor=None, stop_words=None,\n",
       "        strip...e_idf=True)), ('clf', LinearRegression(copy_X=True, fit_intercept=True, n_jobs=1, normalize=False))])"
      ]
     },
     "execution_count": 80,
     "metadata": {},
     "output_type": "execute_result"
    }
   ],
   "source": [
    "train_text = train['content'].values\n",
    "train_y = train['rating'].values.astype(int)\n",
    "    \n",
    "test_text = test['content'].values\n",
    "test_y = test['rating'].values.astype(int)\n",
    "    \n",
    "pipeline.fit(train_text,train_y)\n"
   ]
  },
  {
   "cell_type": "markdown",
   "metadata": {},
   "source": [
    "###### Prediction part"
   ]
  },
  {
   "cell_type": "code",
   "execution_count": 81,
   "metadata": {},
   "outputs": [],
   "source": [
    "predictions = pipeline.predict(test_text)"
   ]
  },
  {
   "cell_type": "code",
   "execution_count": 82,
   "metadata": {},
   "outputs": [],
   "source": [
    "def float_to_int_regression(x):\n",
    "    return int(round(x))\n",
    "    \n",
    "# define vectorized float_to_int_regression\n",
    "float_to_int_regression_v = np.vectorize(float_to_int_regression)\n",
    "predictions_int = float_to_int_regression_v(predictions)\n",
    "\n",
    "# replace max (resp. min) prediction by the maximum (resp. min) of the class \n",
    "predictions_int[predictions_int >max(test_y)] = max(test_y)\n",
    "predictions_int[predictions_int < min(test_y)] = min(test_y)"
   ]
  },
  {
   "cell_type": "code",
   "execution_count": 83,
   "metadata": {},
   "outputs": [],
   "source": [
    "def plot_confusion_matrix(cm, classes,\n",
    "                          normalize=False,\n",
    "                          title='Confusion matrix',\n",
    "                          cmap=plt.cm.Blues):\n",
    "    \"\"\"\n",
    "    This function prints and plots the confusion matrix.\n",
    "    Normalization can be applied by setting `normalize=True`.\n",
    "    \"\"\"\n",
    "    if normalize:\n",
    "        cm = cm.astype('float') / cm.sum(axis=1)[:, np.newaxis]\n",
    "        print(\"Normalized confusion matrix\")\n",
    "    else:\n",
    "        print('Confusion matrix, without normalization')\n",
    "\n",
    "    #print(cm)\n",
    "\n",
    "    plt.imshow(cm, interpolation='nearest', cmap=cmap)\n",
    "    plt.title(title)\n",
    "    plt.colorbar()\n",
    "    tick_marks = np.arange(len(classes))\n",
    "    plt.xticks(tick_marks, classes, rotation=45)\n",
    "    plt.yticks(tick_marks, classes)\n",
    "\n",
    "    fmt = '.2f' if normalize else 'd'\n",
    "    thresh = cm.max() / 2.\n",
    "    for i, j in itertools.product(range(cm.shape[0]), range(cm.shape[1])):\n",
    "        plt.text(j, i, format(cm[i, j], fmt),\n",
    "                 horizontalalignment=\"center\",\n",
    "                 color=\"white\" if cm[i, j] > thresh else \"black\")\n",
    "\n",
    "    plt.ylabel('True label')\n",
    "    plt.xlabel('Predicted label')\n",
    "    plt.tight_layout()\n",
    "    "
   ]
  },
  {
   "cell_type": "code",
   "execution_count": 84,
   "metadata": {},
   "outputs": [
    {
     "name": "stdout",
     "output_type": "stream",
     "text": [
      "Confusion matrix, without normalization\n",
      "Normalized confusion matrix\n"
     ]
    },
    {
     "data": {
      "image/png": "[encoded data removed]",
      "text/plain": [
       "<Figure size 432x288 with 2 Axes>"
      ]
     },
     "metadata": {},
     "output_type": "display_data"
    },
    {
     "data": {
      "image/png": "[encoded data removed]",
      "text/plain": [
       "<Figure size 432x288 with 2 Axes>"
      ]
     },
     "metadata": {},
     "output_type": "display_data"
    }
   ],
   "source": [
    "# Compute confusion matrix\n",
    "cnf_matrix = confusion_matrix(test_y, predictions_int)\n",
    "np.set_printoptions(precision=2)\n",
    "\n",
    "# Plot non-normalized confusion matrix\n",
    "plt.figure()\n",
    "plot_confusion_matrix(cnf_matrix, classes=set(train_y),\n",
    "                      title='Confusion matrix, without normalization')\n",
    "\n",
    "# Plot normalized confusion matrix\n",
    "plt.figure()\n",
    "plot_confusion_matrix(cnf_matrix, classes=set(train_y), normalize=True,\n",
    "                      title='Normalized confusion matrix')\n",
    "\n",
    "plt.show()"
   ]
  },
  {
   "cell_type": "code",
   "execution_count": null,
   "metadata": {},
   "outputs": [],
   "source": [
    "comparaison = test.copy() \n",
    "comparaison['y'] = predictions_int\n",
    "#comparaison.to_excel('./comparaison.xls',encoding='utf-8')"
   ]
  },
  {
   "cell_type": "markdown",
   "metadata": {},
   "source": [
    "#### Live prediction"
   ]
  },
  {
   "cell_type": "code",
   "execution_count": 92,
   "metadata": {},
   "outputs": [
    {
     "data": {
      "text/plain": [
       "array([0.6])"
      ]
     },
     "execution_count": 92,
     "metadata": {},
     "output_type": "execute_result"
    }
   ],
   "source": [
    "pipeline.predict([\"bad company\"])"
   ]
  },
  {
   "cell_type": "markdown",
   "metadata": {},
   "source": [
    "#### Modèle de classification <a class=\"anchor\" id=\"regression\"></a>"
   ]
  },
  {
   "cell_type": "code",
   "execution_count": null,
   "metadata": {},
   "outputs": [],
   "source": [
    "pipeline = Pipeline([\n",
    "    ('vect', CountVectorizer(tokenizer=preprocessing,ngram_range=(1,2))),\n",
    "    ('tfidf',TfidfTransformer()),\n",
    "    ('clf', MultinomialNB(alpha=1))\n",
    "])"
   ]
  },
  {
   "cell_type": "markdown",
   "metadata": {},
   "source": [
    "..."
   ]
  },
  {
   "cell_type": "markdown",
   "metadata": {},
   "source": [
    "## Brouillon"
   ]
  },
  {
   "cell_type": "markdown",
   "metadata": {},
   "source": [
    "## Source <a class=\"anchor\" id=\"source\"></a>"
   ]
  },
  {
   "cell_type": "markdown",
   "metadata": {},
   "source": [
    "[How to create a heatmap](https://blog.algorexhealth.com/2017/09/10-heatmaps-10-python-libraries/)"
   ]
  }
 ],
 "metadata": {
  "kernelspec": {
   "display_name": "Python 3",
   "language": "python",
   "name": "python3"
  },
  "language_info": {
   "codemirror_mode": {
    "name": "ipython",
    "version": 3
   },
   "file_extension": ".py",
   "mimetype": "text/x-python",
   "name": "python",
   "nbconvert_exporter": "python",
   "pygments_lexer": "ipython3",
   "version": "3.6.5"
  }
 },
 "nbformat": 4,
 "nbformat_minor": 2
}
